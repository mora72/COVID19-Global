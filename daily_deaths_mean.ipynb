{
 "cells": [
  {
   "cell_type": "code",
   "execution_count": 1,
   "metadata": {},
   "outputs": [],
   "source": [
    "import pandas as pd\n",
    "import numpy as np \n",
    "\n",
    "pd.set_option('display.max_colwidth', None)\n",
    "pd.set_option('display.max_rows', 50)\n",
    "pd.set_option('display.float_format', '{:.2f}'.format)\n",
    "\n",
    "df = pd.read_csv('time_series_covid19_deaths_global.csv')\n",
    "df = df.rename(columns={'Country/Region': 'Pais'})\n",
    "df = df.groupby('Pais').agg(np.sum)\n",
    "df = df.sort_values('5/11/20', ascending=False)\n",
    "# df[df['Province/State'].notnull()][:50]\n",
    "# df[df['Country/Region'] == 'France']\n",
    "df = df.iloc[:,2:]\n",
    "# df"
   ]
  },
  {
   "cell_type": "code",
   "execution_count": 2,
   "metadata": {},
   "outputs": [],
   "source": [
    "tam = len(df.columns)\n",
    "df1 = df.iloc[:,1:tam]\n",
    "df1.columns = list(range(0,tam-1))\n",
    "df2 = df.iloc[:,0:tam-1]\n",
    "df2.columns = list(range(0,tam-1))\n",
    "df3 = df1 - df2\n",
    "df3.columns = df.columns[1:]\n",
    "# df3.head(10)"
   ]
  },
  {
   "cell_type": "code",
   "execution_count": 3,
   "metadata": {},
   "outputs": [],
   "source": [
    "df4 = df3.copy()\n",
    "for x in df3.index:\n",
    "    # print(x)\n",
    "    for c in range(0,tam):\n",
    "        # print(c)\n",
    "        if c >= 7:\n",
    "            # print(f'{df.columns[c]:<15} {df3.loc[x][c-7:c].mean():10,.0f}')\n",
    "            df4.at[x, df.columns[c]] = df3.loc[x][c-7:c].mean()\n",
    "df4 = df4.sort_values('5/11/20', ascending=False)\n",
    "# df4.iloc[:10,-14:]"
   ]
  },
  {
   "cell_type": "code",
   "execution_count": 4,
   "metadata": {
    "scrolled": true
   },
   "outputs": [],
   "source": [
    "q_pico = []\n",
    "d_pico = []\n",
    "for x in df4.index:\n",
    "    # print(f'{x:<20} {df4.loc[x].max():5} {df4.columns[df4.loc[x].argmax()]}')\n",
    "    q_pico.append(df4.loc[x].max())\n",
    "    d_pico.append(df4.columns[df4.loc[x].argmax()])"
   ]
  },
  {
   "cell_type": "code",
   "execution_count": 5,
   "metadata": {},
   "outputs": [
    {
     "output_type": "execute_result",
     "data": {
      "text/plain": "                Ult_7_Dias  Pico Dia_do_Pico  Delta %\nPais                                                 \nUS                    1433  2201     4/18/20    -0.35\nBrazil                 713   715     5/16/20    -0.00\nUnited Kingdom         398   944     4/14/20    -0.58\nFrance                 246   975      4/9/20    -0.75\nMexico                 244   244     5/17/20     0.00\nItaly                  192   814      4/2/20    -0.76\nSpain                  134   865      4/3/20    -0.85\nCanada                 130   175      5/7/20    -0.26\nIndia                  116   117     5/10/20    -0.01\nPeru                   108   108     5/17/20     0.00",
      "text/html": "<div>\n<style scoped>\n    .dataframe tbody tr th:only-of-type {\n        vertical-align: middle;\n    }\n\n    .dataframe tbody tr th {\n        vertical-align: top;\n    }\n\n    .dataframe thead th {\n        text-align: right;\n    }\n</style>\n<table border=\"1\" class=\"dataframe\">\n  <thead>\n    <tr style=\"text-align: right;\">\n      <th></th>\n      <th>Ult_7_Dias</th>\n      <th>Pico</th>\n      <th>Dia_do_Pico</th>\n      <th>Delta %</th>\n    </tr>\n    <tr>\n      <th>Pais</th>\n      <th></th>\n      <th></th>\n      <th></th>\n      <th></th>\n    </tr>\n  </thead>\n  <tbody>\n    <tr>\n      <th>US</th>\n      <td>1433</td>\n      <td>2201</td>\n      <td>4/18/20</td>\n      <td>-0.35</td>\n    </tr>\n    <tr>\n      <th>Brazil</th>\n      <td>713</td>\n      <td>715</td>\n      <td>5/16/20</td>\n      <td>-0.00</td>\n    </tr>\n    <tr>\n      <th>United Kingdom</th>\n      <td>398</td>\n      <td>944</td>\n      <td>4/14/20</td>\n      <td>-0.58</td>\n    </tr>\n    <tr>\n      <th>France</th>\n      <td>246</td>\n      <td>975</td>\n      <td>4/9/20</td>\n      <td>-0.75</td>\n    </tr>\n    <tr>\n      <th>Mexico</th>\n      <td>244</td>\n      <td>244</td>\n      <td>5/17/20</td>\n      <td>0.00</td>\n    </tr>\n    <tr>\n      <th>Italy</th>\n      <td>192</td>\n      <td>814</td>\n      <td>4/2/20</td>\n      <td>-0.76</td>\n    </tr>\n    <tr>\n      <th>Spain</th>\n      <td>134</td>\n      <td>865</td>\n      <td>4/3/20</td>\n      <td>-0.85</td>\n    </tr>\n    <tr>\n      <th>Canada</th>\n      <td>130</td>\n      <td>175</td>\n      <td>5/7/20</td>\n      <td>-0.26</td>\n    </tr>\n    <tr>\n      <th>India</th>\n      <td>116</td>\n      <td>117</td>\n      <td>5/10/20</td>\n      <td>-0.01</td>\n    </tr>\n    <tr>\n      <th>Peru</th>\n      <td>108</td>\n      <td>108</td>\n      <td>5/17/20</td>\n      <td>0.00</td>\n    </tr>\n  </tbody>\n</table>\n</div>"
     },
     "metadata": {},
     "execution_count": 5
    }
   ],
   "source": [
    "df5 = pd.DataFrame(df4.iloc[:,-1], index=df4.index)\n",
    "df5['Q_Pico'] = pd.Series(q_pico, index=df4.index)\n",
    "df5['D_Pico'] = pd.Series(d_pico, index=df4.index)\n",
    "df5.columns = ['Ult_7_Dias', 'Pico', 'Dia_do_Pico']\n",
    "df5['Delta %'] = df5['Ult_7_Dias'] / df5['Pico'] - 1\n",
    "df5 = df5.sort_values('Ult_7_Dias', ascending=False)\n",
    "df5.head(10)"
   ]
  },
  {
   "cell_type": "markdown",
   "metadata": {},
   "source": [
    "### Número de óbtidos por COVID-19\n",
    "    Ranking 10 maiores países - considerando últ 7 dias\n",
    "    Valores apresentam média diária de óbitos em 7 dias\n",
    "    Atualizado com dados até 17/05/2020\n",
    "    Data no formato mm/dd/aa\n",
    "    Fonte: CSSE at Johns Hopkins University\n",
    "    https://github.com/CSSEGISandData\n",
    "    "
   ]
  },
  {
   "cell_type": "code",
   "execution_count": null,
   "metadata": {},
   "outputs": [],
   "source": []
  }
 ],
 "metadata": {
  "kernelspec": {
   "display_name": "Python 3.8.1 64-bit",
   "language": "python",
   "name": "python38164bitaf526a739cc24cf3b62b1505acdc52e6"
  },
  "language_info": {
   "codemirror_mode": {
    "name": "ipython",
    "version": 3
   },
   "file_extension": ".py",
   "mimetype": "text/x-python",
   "name": "python",
   "nbconvert_exporter": "python",
   "pygments_lexer": "ipython3",
   "version": "3.8.1-final"
  }
 },
 "nbformat": 4,
 "nbformat_minor": 4
}
{
 "cells": [
  {
   "cell_type": "code",
   "execution_count": 1,
   "metadata": {},
   "outputs": [
    {
     "output_type": "execute_result",
     "data": {
      "text/plain": "                1/22/20  1/23/20  1/24/20  1/25/20  1/26/20  1/27/20  1/28/20  \\\nPais                                                                            \nUS                    0        0        0        0        0        0        0   \nUnited Kingdom        0        0        0        0        0        0        0   \nItaly                 0        0        0        0        0        0        0   \nSpain                 0        0        0        0        0        0        0   \nFrance                0        0        0        0        0        0        0   \n...                 ...      ...      ...      ...      ...      ...      ...   \nHoly See              0        0        0        0        0        0        0   \nLaos                  0        0        0        0        0        0        0   \nLesotho               0        0        0        0        0        0        0   \nSaint Lucia           0        0        0        0        0        0        0   \nEritrea               0        0        0        0        0        0        0   \n\n                1/29/20  1/30/20  1/31/20  ...  5/5/20  5/6/20  5/7/20  \\\nPais                                       ...                           \nUS                    0        0        0  ...   71064   73455   75662   \nUnited Kingdom        0        0        0  ...   29501   30150   30689   \nItaly                 0        0        0  ...   29315   29684   29958   \nSpain                 0        0        0  ...   25613   25857   26070   \nFrance                0        0        0  ...   25537   25812   25990   \n...                 ...      ...      ...  ...     ...     ...     ...   \nHoly See              0        0        0  ...       0       0       0   \nLaos                  0        0        0  ...       0       0       0   \nLesotho               0        0        0  ...       0       0       0   \nSaint Lucia           0        0        0  ...       0       0       0   \nEritrea               0        0        0  ...       0       0       0   \n\n                5/8/20  5/9/20  5/10/20  5/11/20  5/12/20  5/13/20  5/14/20  \nPais                                                                         \nUS               77180   78795    79526    80682    82356    84119    85898  \nUnited Kingdom   31316   31662    31930    32141    32769    33264    33693  \nItaly            30201   30395    30560    30739    30911    31106    31368  \nSpain            26299   26478    26621    26744    26920    27104    27321  \nFrance           26233   26313    26383    26646    26994    27077    27428  \n...                ...     ...      ...      ...      ...      ...      ...  \nHoly See             0       0        0        0        0        0        0  \nLaos                 0       0        0        0        0        0        0  \nLesotho              0       0        0        0        0        0        0  \nSaint Lucia          0       0        0        0        0        0        0  \nEritrea              0       0        0        0        0        0        0  \n\n[188 rows x 114 columns]",
      "text/html": "<div>\n<style scoped>\n    .dataframe tbody tr th:only-of-type {\n        vertical-align: middle;\n    }\n\n    .dataframe tbody tr th {\n        vertical-align: top;\n    }\n\n    .dataframe thead th {\n        text-align: right;\n    }\n</style>\n<table border=\"1\" class=\"dataframe\">\n  <thead>\n    <tr style=\"text-align: right;\">\n      <th></th>\n      <th>1/22/20</th>\n      <th>1/23/20</th>\n      <th>1/24/20</th>\n      <th>1/25/20</th>\n      <th>1/26/20</th>\n      <th>1/27/20</th>\n      <th>1/28/20</th>\n      <th>1/29/20</th>\n      <th>1/30/20</th>\n      <th>1/31/20</th>\n      <th>...</th>\n      <th>5/5/20</th>\n      <th>5/6/20</th>\n      <th>5/7/20</th>\n      <th>5/8/20</th>\n      <th>5/9/20</th>\n      <th>5/10/20</th>\n      <th>5/11/20</th>\n      <th>5/12/20</th>\n      <th>5/13/20</th>\n      <th>5/14/20</th>\n    </tr>\n    <tr>\n      <th>Pais</th>\n      <th></th>\n      <th></th>\n      <th></th>\n      <th></th>\n      <th></th>\n      <th></th>\n      <th></th>\n      <th></th>\n      <th></th>\n      <th></th>\n      <th></th>\n      <th></th>\n      <th></th>\n      <th></th>\n      <th></th>\n      <th></th>\n      <th></th>\n      <th></th>\n      <th></th>\n      <th></th>\n      <th></th>\n    </tr>\n  </thead>\n  <tbody>\n    <tr>\n      <th>US</th>\n      <td>0</td>\n      <td>0</td>\n      <td>0</td>\n      <td>0</td>\n      <td>0</td>\n      <td>0</td>\n      <td>0</td>\n      <td>0</td>\n      <td>0</td>\n      <td>0</td>\n      <td>...</td>\n      <td>71064</td>\n      <td>73455</td>\n      <td>75662</td>\n      <td>77180</td>\n      <td>78795</td>\n      <td>79526</td>\n      <td>80682</td>\n      <td>82356</td>\n      <td>84119</td>\n      <td>85898</td>\n    </tr>\n    <tr>\n      <th>United Kingdom</th>\n      <td>0</td>\n      <td>0</td>\n      <td>0</td>\n      <td>0</td>\n      <td>0</td>\n      <td>0</td>\n      <td>0</td>\n      <td>0</td>\n      <td>0</td>\n      <td>0</td>\n      <td>...</td>\n      <td>29501</td>\n      <td>30150</td>\n      <td>30689</td>\n      <td>31316</td>\n      <td>31662</td>\n      <td>31930</td>\n      <td>32141</td>\n      <td>32769</td>\n      <td>33264</td>\n      <td>33693</td>\n    </tr>\n    <tr>\n      <th>Italy</th>\n      <td>0</td>\n      <td>0</td>\n      <td>0</td>\n      <td>0</td>\n      <td>0</td>\n      <td>0</td>\n      <td>0</td>\n      <td>0</td>\n      <td>0</td>\n      <td>0</td>\n      <td>...</td>\n      <td>29315</td>\n      <td>29684</td>\n      <td>29958</td>\n      <td>30201</td>\n      <td>30395</td>\n      <td>30560</td>\n      <td>30739</td>\n      <td>30911</td>\n      <td>31106</td>\n      <td>31368</td>\n    </tr>\n    <tr>\n      <th>Spain</th>\n      <td>0</td>\n      <td>0</td>\n      <td>0</td>\n      <td>0</td>\n      <td>0</td>\n      <td>0</td>\n      <td>0</td>\n      <td>0</td>\n      <td>0</td>\n      <td>0</td>\n      <td>...</td>\n      <td>25613</td>\n      <td>25857</td>\n      <td>26070</td>\n      <td>26299</td>\n      <td>26478</td>\n      <td>26621</td>\n      <td>26744</td>\n      <td>26920</td>\n      <td>27104</td>\n      <td>27321</td>\n    </tr>\n    <tr>\n      <th>France</th>\n      <td>0</td>\n      <td>0</td>\n      <td>0</td>\n      <td>0</td>\n      <td>0</td>\n      <td>0</td>\n      <td>0</td>\n      <td>0</td>\n      <td>0</td>\n      <td>0</td>\n      <td>...</td>\n      <td>25537</td>\n      <td>25812</td>\n      <td>25990</td>\n      <td>26233</td>\n      <td>26313</td>\n      <td>26383</td>\n      <td>26646</td>\n      <td>26994</td>\n      <td>27077</td>\n      <td>27428</td>\n    </tr>\n    <tr>\n      <th>...</th>\n      <td>...</td>\n      <td>...</td>\n      <td>...</td>\n      <td>...</td>\n      <td>...</td>\n      <td>...</td>\n      <td>...</td>\n      <td>...</td>\n      <td>...</td>\n      <td>...</td>\n      <td>...</td>\n      <td>...</td>\n      <td>...</td>\n      <td>...</td>\n      <td>...</td>\n      <td>...</td>\n      <td>...</td>\n      <td>...</td>\n      <td>...</td>\n      <td>...</td>\n      <td>...</td>\n    </tr>\n    <tr>\n      <th>Holy See</th>\n      <td>0</td>\n      <td>0</td>\n      <td>0</td>\n      <td>0</td>\n      <td>0</td>\n      <td>0</td>\n      <td>0</td>\n      <td>0</td>\n      <td>0</td>\n      <td>0</td>\n      <td>...</td>\n      <td>0</td>\n      <td>0</td>\n      <td>0</td>\n      <td>0</td>\n      <td>0</td>\n      <td>0</td>\n      <td>0</td>\n      <td>0</td>\n      <td>0</td>\n      <td>0</td>\n    </tr>\n    <tr>\n      <th>Laos</th>\n      <td>0</td>\n      <td>0</td>\n      <td>0</td>\n      <td>0</td>\n      <td>0</td>\n      <td>0</td>\n      <td>0</td>\n      <td>0</td>\n      <td>0</td>\n      <td>0</td>\n      <td>...</td>\n      <td>0</td>\n      <td>0</td>\n      <td>0</td>\n      <td>0</td>\n      <td>0</td>\n      <td>0</td>\n      <td>0</td>\n      <td>0</td>\n      <td>0</td>\n      <td>0</td>\n    </tr>\n    <tr>\n      <th>Lesotho</th>\n      <td>0</td>\n      <td>0</td>\n      <td>0</td>\n      <td>0</td>\n      <td>0</td>\n      <td>0</td>\n      <td>0</td>\n      <td>0</td>\n      <td>0</td>\n      <td>0</td>\n      <td>...</td>\n      <td>0</td>\n      <td>0</td>\n      <td>0</td>\n      <td>0</td>\n      <td>0</td>\n      <td>0</td>\n      <td>0</td>\n      <td>0</td>\n      <td>0</td>\n      <td>0</td>\n    </tr>\n    <tr>\n      <th>Saint Lucia</th>\n      <td>0</td>\n      <td>0</td>\n      <td>0</td>\n      <td>0</td>\n      <td>0</td>\n      <td>0</td>\n      <td>0</td>\n      <td>0</td>\n      <td>0</td>\n      <td>0</td>\n      <td>...</td>\n      <td>0</td>\n      <td>0</td>\n      <td>0</td>\n      <td>0</td>\n      <td>0</td>\n      <td>0</td>\n      <td>0</td>\n      <td>0</td>\n      <td>0</td>\n      <td>0</td>\n    </tr>\n    <tr>\n      <th>Eritrea</th>\n      <td>0</td>\n      <td>0</td>\n      <td>0</td>\n      <td>0</td>\n      <td>0</td>\n      <td>0</td>\n      <td>0</td>\n      <td>0</td>\n      <td>0</td>\n      <td>0</td>\n      <td>...</td>\n      <td>0</td>\n      <td>0</td>\n      <td>0</td>\n      <td>0</td>\n      <td>0</td>\n      <td>0</td>\n      <td>0</td>\n      <td>0</td>\n      <td>0</td>\n      <td>0</td>\n    </tr>\n  </tbody>\n</table>\n<p>188 rows × 114 columns</p>\n</div>"
     },
     "metadata": {},
     "execution_count": 1
    }
   ],
   "source": [
    "import pandas as pd\n",
    "import numpy as np \n",
    "\n",
    "pd.set_option('display.max_colwidth', None)\n",
    "pd.set_option('display.max_rows', 50)\n",
    "pd.set_option('display.float_format', '{:.2f}'.format)\n",
    "\n",
    "df = pd.read_csv('time_series_covid19_deaths_global.csv')\n",
    "df = df.rename(columns={'Country/Region': 'Pais'})\n",
    "df = df.groupby('Pais').agg(np.sum)\n",
    "df = df.sort_values('5/11/20', ascending=False)\n",
    "# df[df['Province/State'].notnull()][:50]\n",
    "# df[df['Country/Region'] == 'France']\n",
    "df = df.iloc[:,2:]\n",
    "df"
   ]
  },
  {
   "cell_type": "code",
   "execution_count": 117,
   "metadata": {},
   "outputs": [],
   "source": [
    "# df2.iloc[0,-10:][:7]\n",
    "# df.columns[-4]"
   ]
  },
  {
   "cell_type": "code",
   "execution_count": 175,
   "metadata": {},
   "outputs": [],
   "source": [
    "# df = df.drop(columns=['Province/State','Lat', 'Long'])\n",
    "# df = df.set_index('Pais')\n",
    "# df.head(5)"
   ]
  },
  {
   "cell_type": "code",
   "execution_count": 2,
   "metadata": {},
   "outputs": [
    {
     "output_type": "execute_result",
     "data": {
      "text/plain": "                1/23/20  1/24/20  1/25/20  1/26/20  1/27/20  1/28/20  1/29/20  \\\nPais                                                                            \nUS                    0        0        0        0        0        0        0   \nUnited Kingdom        0        0        0        0        0        0        0   \nItaly                 0        0        0        0        0        0        0   \nSpain                 0        0        0        0        0        0        0   \nFrance                0        0        0        0        0        0        0   \nBrazil                0        0        0        0        0        0        0   \nBelgium               0        0        0        0        0        0        0   \nGermany               0        0        0        0        0        0        0   \nIran                  0        0        0        0        0        0        0   \nNetherlands           0        0        0        0        0        0        0   \n\n                1/30/20  1/31/20  2/1/20  ...  5/5/20  5/6/20  5/7/20  5/8/20  \\\nPais                                      ...                                   \nUS                    0        0       0  ...    2142    2391    2207    1518   \nUnited Kingdom        0        0       0  ...     692     649     539     627   \nItaly                 0        0       0  ...     236     369     274     243   \nSpain                 0        0       0  ...     185     244     213     229   \nFrance                0        0       0  ...     333     275     178     243   \nBrazil                0        0       0  ...     571     650     602     827   \nBelgium               0        0       0  ...      92     323      76     106   \nGermany               0        0       0  ...       0     282     117     118   \nIran                  0        0       0  ...      63      78      68      55   \nNetherlands           0        0       0  ...      87      36      85      71   \n\n                5/9/20  5/10/20  5/11/20  5/12/20  5/13/20  5/14/20  \nPais                                                                 \nUS                1615      731     1156     1674     1763     1779  \nUnited Kingdom     346      268      211      628      495      429  \nItaly              194      165      179      172      195      262  \nSpain              179      143      123      176      184      217  \nFrance              80       70      263      348       83      351  \nBrazil             639      467      530      808      779      759  \nBelgium             60       75       51       54       82       60  \nGermany             39       20       92       77      123       23  \nIran                48       51       45       48       50       71  \nNetherlands         64       18       16       54       52       28  \n\n[10 rows x 113 columns]",
      "text/html": "<div>\n<style scoped>\n    .dataframe tbody tr th:only-of-type {\n        vertical-align: middle;\n    }\n\n    .dataframe tbody tr th {\n        vertical-align: top;\n    }\n\n    .dataframe thead th {\n        text-align: right;\n    }\n</style>\n<table border=\"1\" class=\"dataframe\">\n  <thead>\n    <tr style=\"text-align: right;\">\n      <th></th>\n      <th>1/23/20</th>\n      <th>1/24/20</th>\n      <th>1/25/20</th>\n      <th>1/26/20</th>\n      <th>1/27/20</th>\n      <th>1/28/20</th>\n      <th>1/29/20</th>\n      <th>1/30/20</th>\n      <th>1/31/20</th>\n      <th>2/1/20</th>\n      <th>...</th>\n      <th>5/5/20</th>\n      <th>5/6/20</th>\n      <th>5/7/20</th>\n      <th>5/8/20</th>\n      <th>5/9/20</th>\n      <th>5/10/20</th>\n      <th>5/11/20</th>\n      <th>5/12/20</th>\n      <th>5/13/20</th>\n      <th>5/14/20</th>\n    </tr>\n    <tr>\n      <th>Pais</th>\n      <th></th>\n      <th></th>\n      <th></th>\n      <th></th>\n      <th></th>\n      <th></th>\n      <th></th>\n      <th></th>\n      <th></th>\n      <th></th>\n      <th></th>\n      <th></th>\n      <th></th>\n      <th></th>\n      <th></th>\n      <th></th>\n      <th></th>\n      <th></th>\n      <th></th>\n      <th></th>\n      <th></th>\n    </tr>\n  </thead>\n  <tbody>\n    <tr>\n      <th>US</th>\n      <td>0</td>\n      <td>0</td>\n      <td>0</td>\n      <td>0</td>\n      <td>0</td>\n      <td>0</td>\n      <td>0</td>\n      <td>0</td>\n      <td>0</td>\n      <td>0</td>\n      <td>...</td>\n      <td>2142</td>\n      <td>2391</td>\n      <td>2207</td>\n      <td>1518</td>\n      <td>1615</td>\n      <td>731</td>\n      <td>1156</td>\n      <td>1674</td>\n      <td>1763</td>\n      <td>1779</td>\n    </tr>\n    <tr>\n      <th>United Kingdom</th>\n      <td>0</td>\n      <td>0</td>\n      <td>0</td>\n      <td>0</td>\n      <td>0</td>\n      <td>0</td>\n      <td>0</td>\n      <td>0</td>\n      <td>0</td>\n      <td>0</td>\n      <td>...</td>\n      <td>692</td>\n      <td>649</td>\n      <td>539</td>\n      <td>627</td>\n      <td>346</td>\n      <td>268</td>\n      <td>211</td>\n      <td>628</td>\n      <td>495</td>\n      <td>429</td>\n    </tr>\n    <tr>\n      <th>Italy</th>\n      <td>0</td>\n      <td>0</td>\n      <td>0</td>\n      <td>0</td>\n      <td>0</td>\n      <td>0</td>\n      <td>0</td>\n      <td>0</td>\n      <td>0</td>\n      <td>0</td>\n      <td>...</td>\n      <td>236</td>\n      <td>369</td>\n      <td>274</td>\n      <td>243</td>\n      <td>194</td>\n      <td>165</td>\n      <td>179</td>\n      <td>172</td>\n      <td>195</td>\n      <td>262</td>\n    </tr>\n    <tr>\n      <th>Spain</th>\n      <td>0</td>\n      <td>0</td>\n      <td>0</td>\n      <td>0</td>\n      <td>0</td>\n      <td>0</td>\n      <td>0</td>\n      <td>0</td>\n      <td>0</td>\n      <td>0</td>\n      <td>...</td>\n      <td>185</td>\n      <td>244</td>\n      <td>213</td>\n      <td>229</td>\n      <td>179</td>\n      <td>143</td>\n      <td>123</td>\n      <td>176</td>\n      <td>184</td>\n      <td>217</td>\n    </tr>\n    <tr>\n      <th>France</th>\n      <td>0</td>\n      <td>0</td>\n      <td>0</td>\n      <td>0</td>\n      <td>0</td>\n      <td>0</td>\n      <td>0</td>\n      <td>0</td>\n      <td>0</td>\n      <td>0</td>\n      <td>...</td>\n      <td>333</td>\n      <td>275</td>\n      <td>178</td>\n      <td>243</td>\n      <td>80</td>\n      <td>70</td>\n      <td>263</td>\n      <td>348</td>\n      <td>83</td>\n      <td>351</td>\n    </tr>\n    <tr>\n      <th>Brazil</th>\n      <td>0</td>\n      <td>0</td>\n      <td>0</td>\n      <td>0</td>\n      <td>0</td>\n      <td>0</td>\n      <td>0</td>\n      <td>0</td>\n      <td>0</td>\n      <td>0</td>\n      <td>...</td>\n      <td>571</td>\n      <td>650</td>\n      <td>602</td>\n      <td>827</td>\n      <td>639</td>\n      <td>467</td>\n      <td>530</td>\n      <td>808</td>\n      <td>779</td>\n      <td>759</td>\n    </tr>\n    <tr>\n      <th>Belgium</th>\n      <td>0</td>\n      <td>0</td>\n      <td>0</td>\n      <td>0</td>\n      <td>0</td>\n      <td>0</td>\n      <td>0</td>\n      <td>0</td>\n      <td>0</td>\n      <td>0</td>\n      <td>...</td>\n      <td>92</td>\n      <td>323</td>\n      <td>76</td>\n      <td>106</td>\n      <td>60</td>\n      <td>75</td>\n      <td>51</td>\n      <td>54</td>\n      <td>82</td>\n      <td>60</td>\n    </tr>\n    <tr>\n      <th>Germany</th>\n      <td>0</td>\n      <td>0</td>\n      <td>0</td>\n      <td>0</td>\n      <td>0</td>\n      <td>0</td>\n      <td>0</td>\n      <td>0</td>\n      <td>0</td>\n      <td>0</td>\n      <td>...</td>\n      <td>0</td>\n      <td>282</td>\n      <td>117</td>\n      <td>118</td>\n      <td>39</td>\n      <td>20</td>\n      <td>92</td>\n      <td>77</td>\n      <td>123</td>\n      <td>23</td>\n    </tr>\n    <tr>\n      <th>Iran</th>\n      <td>0</td>\n      <td>0</td>\n      <td>0</td>\n      <td>0</td>\n      <td>0</td>\n      <td>0</td>\n      <td>0</td>\n      <td>0</td>\n      <td>0</td>\n      <td>0</td>\n      <td>...</td>\n      <td>63</td>\n      <td>78</td>\n      <td>68</td>\n      <td>55</td>\n      <td>48</td>\n      <td>51</td>\n      <td>45</td>\n      <td>48</td>\n      <td>50</td>\n      <td>71</td>\n    </tr>\n    <tr>\n      <th>Netherlands</th>\n      <td>0</td>\n      <td>0</td>\n      <td>0</td>\n      <td>0</td>\n      <td>0</td>\n      <td>0</td>\n      <td>0</td>\n      <td>0</td>\n      <td>0</td>\n      <td>0</td>\n      <td>...</td>\n      <td>87</td>\n      <td>36</td>\n      <td>85</td>\n      <td>71</td>\n      <td>64</td>\n      <td>18</td>\n      <td>16</td>\n      <td>54</td>\n      <td>52</td>\n      <td>28</td>\n    </tr>\n  </tbody>\n</table>\n<p>10 rows × 113 columns</p>\n</div>"
     },
     "metadata": {},
     "execution_count": 2
    }
   ],
   "source": [
    "tam = len(df.columns)\n",
    "df1 = df.iloc[:,1:tam]\n",
    "df1.columns = list(range(0,tam-1))\n",
    "df2 = df.iloc[:,0:tam-1]\n",
    "df2.columns = list(range(0,tam-1))\n",
    "df3 = df1 - df2\n",
    "df3.columns = df.columns[1:]\n",
    "df3.head(10)"
   ]
  },
  {
   "cell_type": "code",
   "execution_count": 3,
   "metadata": {},
   "outputs": [
    {
     "output_type": "execute_result",
     "data": {
      "text/plain": "                5/1/20  5/2/20  5/3/20  5/4/20  5/5/20  5/6/20  5/7/20  \\\nPais                                                                     \nUS                1921    1802    1828    1814    1815    1784    1809   \nBrazil             386     386     395     394     407     439     454   \nUnited Kingdom     675     644     629     621     590     569     549   \nItaly              323     332     320     300     279     286     284   \nFrance             335     306     291     272     267     246     230   \nSpain              288     314     296     272     255     226     218   \nMexico             107     108     114     119     134     138     157   \nCanada             162     159     158     166     172     173     175   \nBelgium            146     121     107     102      97     119     117   \nIndia               63      71      72      89      97     100     105   \n\n                5/8/20  5/9/20  5/10/20  5/11/20  5/12/20  5/13/20  5/14/20  \nPais                                                                         \nUS                1748    1775     1692     1680     1613     1523     1462  \nBrazil             515     556      581      612      646      664      687  \nUnited Kingdom     533     493      487      476      466      444      429  \nItaly              280     240      239      237      228      203      201  \nFrance             233     221      211      206      208      180      205  \nSpain              250     196      193      188      186      178      178  \nMexico             169     184      187      186      202      216      216  \nCanada             165     162      170      158      158      151      150  \nBelgium            116     116      116      111      106       72       69  \nIndia              108     111      117      104      103      109      108  ",
      "text/html": "<div>\n<style scoped>\n    .dataframe tbody tr th:only-of-type {\n        vertical-align: middle;\n    }\n\n    .dataframe tbody tr th {\n        vertical-align: top;\n    }\n\n    .dataframe thead th {\n        text-align: right;\n    }\n</style>\n<table border=\"1\" class=\"dataframe\">\n  <thead>\n    <tr style=\"text-align: right;\">\n      <th></th>\n      <th>5/1/20</th>\n      <th>5/2/20</th>\n      <th>5/3/20</th>\n      <th>5/4/20</th>\n      <th>5/5/20</th>\n      <th>5/6/20</th>\n      <th>5/7/20</th>\n      <th>5/8/20</th>\n      <th>5/9/20</th>\n      <th>5/10/20</th>\n      <th>5/11/20</th>\n      <th>5/12/20</th>\n      <th>5/13/20</th>\n      <th>5/14/20</th>\n    </tr>\n    <tr>\n      <th>Pais</th>\n      <th></th>\n      <th></th>\n      <th></th>\n      <th></th>\n      <th></th>\n      <th></th>\n      <th></th>\n      <th></th>\n      <th></th>\n      <th></th>\n      <th></th>\n      <th></th>\n      <th></th>\n      <th></th>\n    </tr>\n  </thead>\n  <tbody>\n    <tr>\n      <th>US</th>\n      <td>1921</td>\n      <td>1802</td>\n      <td>1828</td>\n      <td>1814</td>\n      <td>1815</td>\n      <td>1784</td>\n      <td>1809</td>\n      <td>1748</td>\n      <td>1775</td>\n      <td>1692</td>\n      <td>1680</td>\n      <td>1613</td>\n      <td>1523</td>\n      <td>1462</td>\n    </tr>\n    <tr>\n      <th>Brazil</th>\n      <td>386</td>\n      <td>386</td>\n      <td>395</td>\n      <td>394</td>\n      <td>407</td>\n      <td>439</td>\n      <td>454</td>\n      <td>515</td>\n      <td>556</td>\n      <td>581</td>\n      <td>612</td>\n      <td>646</td>\n      <td>664</td>\n      <td>687</td>\n    </tr>\n    <tr>\n      <th>United Kingdom</th>\n      <td>675</td>\n      <td>644</td>\n      <td>629</td>\n      <td>621</td>\n      <td>590</td>\n      <td>569</td>\n      <td>549</td>\n      <td>533</td>\n      <td>493</td>\n      <td>487</td>\n      <td>476</td>\n      <td>466</td>\n      <td>444</td>\n      <td>429</td>\n    </tr>\n    <tr>\n      <th>Italy</th>\n      <td>323</td>\n      <td>332</td>\n      <td>320</td>\n      <td>300</td>\n      <td>279</td>\n      <td>286</td>\n      <td>284</td>\n      <td>280</td>\n      <td>240</td>\n      <td>239</td>\n      <td>237</td>\n      <td>228</td>\n      <td>203</td>\n      <td>201</td>\n    </tr>\n    <tr>\n      <th>France</th>\n      <td>335</td>\n      <td>306</td>\n      <td>291</td>\n      <td>272</td>\n      <td>267</td>\n      <td>246</td>\n      <td>230</td>\n      <td>233</td>\n      <td>221</td>\n      <td>211</td>\n      <td>206</td>\n      <td>208</td>\n      <td>180</td>\n      <td>205</td>\n    </tr>\n    <tr>\n      <th>Spain</th>\n      <td>288</td>\n      <td>314</td>\n      <td>296</td>\n      <td>272</td>\n      <td>255</td>\n      <td>226</td>\n      <td>218</td>\n      <td>250</td>\n      <td>196</td>\n      <td>193</td>\n      <td>188</td>\n      <td>186</td>\n      <td>178</td>\n      <td>178</td>\n    </tr>\n    <tr>\n      <th>Mexico</th>\n      <td>107</td>\n      <td>108</td>\n      <td>114</td>\n      <td>119</td>\n      <td>134</td>\n      <td>138</td>\n      <td>157</td>\n      <td>169</td>\n      <td>184</td>\n      <td>187</td>\n      <td>186</td>\n      <td>202</td>\n      <td>216</td>\n      <td>216</td>\n    </tr>\n    <tr>\n      <th>Canada</th>\n      <td>162</td>\n      <td>159</td>\n      <td>158</td>\n      <td>166</td>\n      <td>172</td>\n      <td>173</td>\n      <td>175</td>\n      <td>165</td>\n      <td>162</td>\n      <td>170</td>\n      <td>158</td>\n      <td>158</td>\n      <td>151</td>\n      <td>150</td>\n    </tr>\n    <tr>\n      <th>Belgium</th>\n      <td>146</td>\n      <td>121</td>\n      <td>107</td>\n      <td>102</td>\n      <td>97</td>\n      <td>119</td>\n      <td>117</td>\n      <td>116</td>\n      <td>116</td>\n      <td>116</td>\n      <td>111</td>\n      <td>106</td>\n      <td>72</td>\n      <td>69</td>\n    </tr>\n    <tr>\n      <th>India</th>\n      <td>63</td>\n      <td>71</td>\n      <td>72</td>\n      <td>89</td>\n      <td>97</td>\n      <td>100</td>\n      <td>105</td>\n      <td>108</td>\n      <td>111</td>\n      <td>117</td>\n      <td>104</td>\n      <td>103</td>\n      <td>109</td>\n      <td>108</td>\n    </tr>\n  </tbody>\n</table>\n</div>"
     },
     "metadata": {},
     "execution_count": 3
    }
   ],
   "source": [
    "df4 = df3.copy()\n",
    "for x in df3.index:\n",
    "    # print(x)\n",
    "    for c in range(0,tam):\n",
    "        # print(c)\n",
    "        if c >= 7:\n",
    "            # print(f'{df.columns[c]:<15} {df3.loc[x][c-7:c].mean():10,.0f}')\n",
    "            df4.at[x, df.columns[c]] = df3.loc[x][c-7:c].mean()\n",
    "df4 = df4.sort_values('5/11/20', ascending=False)\n",
    "df4.iloc[:10,-14:]"
   ]
  },
  {
   "cell_type": "code",
   "execution_count": 4,
   "metadata": {
    "scrolled": true
   },
   "outputs": [],
   "source": [
    "q_pico = []\n",
    "d_pico = []\n",
    "for x in df4.index:\n",
    "    # print(f'{x:<20} {df4.loc[x].max():5} {df4.columns[df4.loc[x].argmax()]}')\n",
    "    q_pico.append(df4.loc[x].max())\n",
    "    d_pico.append(df4.columns[df4.loc[x].argmax()])"
   ]
  },
  {
   "cell_type": "code",
   "execution_count": 5,
   "metadata": {},
   "outputs": [
    {
     "output_type": "execute_result",
     "data": {
      "text/plain": "                Ult_7_Dias  Pico Dia_do_Pico  Delta %\nPais                                                 \nUS                    1462  2201     4/18/20    -0.34\nBrazil                 687   687     5/14/20     0.00\nUnited Kingdom         429   944     4/14/20    -0.55\nMexico                 216   216     5/13/20     0.00\nFrance                 205   975      4/9/20    -0.79\nItaly                  201   814      4/2/20    -0.75\nSpain                  178   865      4/3/20    -0.79\nCanada                 150   175      5/7/20    -0.14\nIndia                  108   117     5/10/20    -0.08\nRussia                  97    97     5/14/20     0.00",
      "text/html": "<div>\n<style scoped>\n    .dataframe tbody tr th:only-of-type {\n        vertical-align: middle;\n    }\n\n    .dataframe tbody tr th {\n        vertical-align: top;\n    }\n\n    .dataframe thead th {\n        text-align: right;\n    }\n</style>\n<table border=\"1\" class=\"dataframe\">\n  <thead>\n    <tr style=\"text-align: right;\">\n      <th></th>\n      <th>Ult_7_Dias</th>\n      <th>Pico</th>\n      <th>Dia_do_Pico</th>\n      <th>Delta %</th>\n    </tr>\n    <tr>\n      <th>Pais</th>\n      <th></th>\n      <th></th>\n      <th></th>\n      <th></th>\n    </tr>\n  </thead>\n  <tbody>\n    <tr>\n      <th>US</th>\n      <td>1462</td>\n      <td>2201</td>\n      <td>4/18/20</td>\n      <td>-0.34</td>\n    </tr>\n    <tr>\n      <th>Brazil</th>\n      <td>687</td>\n      <td>687</td>\n      <td>5/14/20</td>\n      <td>0.00</td>\n    </tr>\n    <tr>\n      <th>United Kingdom</th>\n      <td>429</td>\n      <td>944</td>\n      <td>4/14/20</td>\n      <td>-0.55</td>\n    </tr>\n    <tr>\n      <th>Mexico</th>\n      <td>216</td>\n      <td>216</td>\n      <td>5/13/20</td>\n      <td>0.00</td>\n    </tr>\n    <tr>\n      <th>France</th>\n      <td>205</td>\n      <td>975</td>\n      <td>4/9/20</td>\n      <td>-0.79</td>\n    </tr>\n    <tr>\n      <th>Italy</th>\n      <td>201</td>\n      <td>814</td>\n      <td>4/2/20</td>\n      <td>-0.75</td>\n    </tr>\n    <tr>\n      <th>Spain</th>\n      <td>178</td>\n      <td>865</td>\n      <td>4/3/20</td>\n      <td>-0.79</td>\n    </tr>\n    <tr>\n      <th>Canada</th>\n      <td>150</td>\n      <td>175</td>\n      <td>5/7/20</td>\n      <td>-0.14</td>\n    </tr>\n    <tr>\n      <th>India</th>\n      <td>108</td>\n      <td>117</td>\n      <td>5/10/20</td>\n      <td>-0.08</td>\n    </tr>\n    <tr>\n      <th>Russia</th>\n      <td>97</td>\n      <td>97</td>\n      <td>5/14/20</td>\n      <td>0.00</td>\n    </tr>\n  </tbody>\n</table>\n</div>"
     },
     "metadata": {},
     "execution_count": 5
    }
   ],
   "source": [
    "df5 = pd.DataFrame(df4.iloc[:,-1], index=df4.index)\n",
    "df5['Q_Pico'] = pd.Series(q_pico, index=df4.index)\n",
    "df5['D_Pico'] = pd.Series(d_pico, index=df4.index)\n",
    "df5.columns = ['Ult_7_Dias', 'Pico', 'Dia_do_Pico']\n",
    "df5['Delta %'] = df5['Ult_7_Dias'] / df5['Pico'] - 1\n",
    "df5 = df5.sort_values('Ult_7_Dias', ascending=False)\n",
    "df5.head(10)"
   ]
  },
  {
   "cell_type": "markdown",
   "metadata": {},
   "source": [
    "### Número de óbtidos por COVID-19\n",
    "    Ranking 10 maiores países - considerando últ 7 dias\n",
    "    Valores apresentam média diária de óbitos em 7 dias\n",
    "    Atualizado com dados até 14/05/2020\n",
    "    Data no formato mm/dd/aa\n",
    "    Fonte: CSSE at Johns Hopkins University\n",
    "    https://github.com/CSSEGISandData\n",
    "    "
   ]
  },
  {
   "cell_type": "markdown",
   "metadata": {},
   "source": [
    "# Título tam 1"
   ]
  },
  {
   "cell_type": "markdown",
   "metadata": {},
   "source": [
    "## Título tam 2"
   ]
  },
  {
   "cell_type": "markdown",
   "metadata": {},
   "source": [
    "### Título tam 3"
   ]
  },
  {
   "cell_type": "code",
   "execution_count": null,
   "metadata": {},
   "outputs": [],
   "source": [
    "\t12/05\n",
    "\tUlt_7_Dias\tPico\tDia_do_Pico\tDelta %\n",
    "Pais\t\t\t\t\n",
    "US\t1613\t2201\t4/18/20\t-0.27\n",
    "Brazil\t646\t646\t5/12/20\t0.00\n",
    "United Kingdom\t466\t944\t4/14/20\t-0.51\n",
    "Italy\t228\t814\t4/2/20\t-0.72\n",
    "France\t208\t975\t4/9/20\t-0.79\n",
    "Mexico\t202\t202\t5/12/20\t0.00\n",
    "Spain\t186\t865\t4/3/20\t-0.78\n",
    "Canada\t158\t175\t5/7/20\t-0.10\n",
    "Ecuador\t108\t141\t5/3/20\t-0.23\n",
    "Germany\t106\t248\t4/21/20\t-0.57"
   ]
  },
  {
   "cell_type": "code",
   "execution_count": null,
   "metadata": {},
   "outputs": [],
   "source": [
    "\t13/05\n",
    "    Ult_7_Dias\tPico\tDia_do_Pico\tDelta %\n",
    "Pais\t\t\t\t\n",
    "US\t1523\t2201\t4/18/20\t-0.31\n",
    "Brazil\t664\t664\t5/13/20\t0.00\n",
    "United Kingdom\t444\t944\t4/14/20\t-0.53\n",
    "Mexico\t216\t216\t5/13/20\t0.00\n",
    "Italy\t203\t814\t4/2/20\t-0.75\n",
    "France\t180\t975\t4/9/20\t-0.82\n",
    "Spain\t178\t865\t4/3/20\t-0.79\n",
    "Canada\t151\t175\t5/7/20\t-0.14\n",
    "India\t109\t117\t5/10/20\t-0.07\n",
    "Ecuador\t102\t141\t5/3/20\t-0.28"
   ]
  }
 ],
 "metadata": {
  "kernelspec": {
   "display_name": "Python 3.8.1 64-bit",
   "language": "python",
   "name": "python38164bitaf526a739cc24cf3b62b1505acdc52e6"
  },
  "language_info": {
   "codemirror_mode": {
    "name": "ipython",
    "version": 3
   },
   "file_extension": ".py",
   "mimetype": "text/x-python",
   "name": "python",
   "nbconvert_exporter": "python",
   "pygments_lexer": "ipython3",
   "version": "3.8.1-final"
  }
 },
 "nbformat": 4,
 "nbformat_minor": 4
}
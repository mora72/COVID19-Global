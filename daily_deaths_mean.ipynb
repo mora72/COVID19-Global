{
 "cells": [
  {
   "cell_type": "code",
   "execution_count": 1,
   "metadata": {},
   "outputs": [
    {
     "output_type": "execute_result",
     "data": {
      "text/plain": "                1/22/20  1/23/20  1/24/20  1/25/20  1/26/20  1/27/20  1/28/20  \\\nPais                                                                            \nUS                    0        0        0        0        0        0        0   \nUnited Kingdom        0        0        0        0        0        0        0   \nItaly                 0        0        0        0        0        0        0   \nSpain                 0        0        0        0        0        0        0   \nFrance                0        0        0        0        0        0        0   \n...                 ...      ...      ...      ...      ...      ...      ...   \nHoly See              0        0        0        0        0        0        0   \nLaos                  0        0        0        0        0        0        0   \nLesotho               0        0        0        0        0        0        0   \nSaint Lucia           0        0        0        0        0        0        0   \nEritrea               0        0        0        0        0        0        0   \n\n                1/29/20  1/30/20  1/31/20  ...  5/4/20  5/5/20  5/6/20  \\\nPais                                       ...                           \nUS                    0        0        0  ...   68922   71064   73455   \nUnited Kingdom        0        0        0  ...   28809   29501   30150   \nItaly                 0        0        0  ...   29079   29315   29684   \nSpain                 0        0        0  ...   25428   25613   25857   \nFrance                0        0        0  ...   25204   25537   25812   \n...                 ...      ...      ...  ...     ...     ...     ...   \nHoly See              0        0        0  ...       0       0       0   \nLaos                  0        0        0  ...       0       0       0   \nLesotho               0        0        0  ...       0       0       0   \nSaint Lucia           0        0        0  ...       0       0       0   \nEritrea               0        0        0  ...       0       0       0   \n\n                5/7/20  5/8/20  5/9/20  5/10/20  5/11/20  5/12/20  5/13/20  \nPais                                                                        \nUS               75662   77180   78795    79526    80682    82356    84119  \nUnited Kingdom   30689   31316   31662    31930    32141    32769    33264  \nItaly            29958   30201   30395    30560    30739    30911    31106  \nSpain            26070   26299   26478    26621    26744    26920    27104  \nFrance           25990   26233   26313    26383    26646    26994    27077  \n...                ...     ...     ...      ...      ...      ...      ...  \nHoly See             0       0       0        0        0        0        0  \nLaos                 0       0       0        0        0        0        0  \nLesotho              0       0       0        0        0        0        0  \nSaint Lucia          0       0       0        0        0        0        0  \nEritrea              0       0       0        0        0        0        0  \n\n[188 rows x 113 columns]",
      "text/html": "<div>\n<style scoped>\n    .dataframe tbody tr th:only-of-type {\n        vertical-align: middle;\n    }\n\n    .dataframe tbody tr th {\n        vertical-align: top;\n    }\n\n    .dataframe thead th {\n        text-align: right;\n    }\n</style>\n<table border=\"1\" class=\"dataframe\">\n  <thead>\n    <tr style=\"text-align: right;\">\n      <th></th>\n      <th>1/22/20</th>\n      <th>1/23/20</th>\n      <th>1/24/20</th>\n      <th>1/25/20</th>\n      <th>1/26/20</th>\n      <th>1/27/20</th>\n      <th>1/28/20</th>\n      <th>1/29/20</th>\n      <th>1/30/20</th>\n      <th>1/31/20</th>\n      <th>...</th>\n      <th>5/4/20</th>\n      <th>5/5/20</th>\n      <th>5/6/20</th>\n      <th>5/7/20</th>\n      <th>5/8/20</th>\n      <th>5/9/20</th>\n      <th>5/10/20</th>\n      <th>5/11/20</th>\n      <th>5/12/20</th>\n      <th>5/13/20</th>\n    </tr>\n    <tr>\n      <th>Pais</th>\n      <th></th>\n      <th></th>\n      <th></th>\n      <th></th>\n      <th></th>\n      <th></th>\n      <th></th>\n      <th></th>\n      <th></th>\n      <th></th>\n      <th></th>\n      <th></th>\n      <th></th>\n      <th></th>\n      <th></th>\n      <th></th>\n      <th></th>\n      <th></th>\n      <th></th>\n      <th></th>\n      <th></th>\n    </tr>\n  </thead>\n  <tbody>\n    <tr>\n      <th>US</th>\n      <td>0</td>\n      <td>0</td>\n      <td>0</td>\n      <td>0</td>\n      <td>0</td>\n      <td>0</td>\n      <td>0</td>\n      <td>0</td>\n      <td>0</td>\n      <td>0</td>\n      <td>...</td>\n      <td>68922</td>\n      <td>71064</td>\n      <td>73455</td>\n      <td>75662</td>\n      <td>77180</td>\n      <td>78795</td>\n      <td>79526</td>\n      <td>80682</td>\n      <td>82356</td>\n      <td>84119</td>\n    </tr>\n    <tr>\n      <th>United Kingdom</th>\n      <td>0</td>\n      <td>0</td>\n      <td>0</td>\n      <td>0</td>\n      <td>0</td>\n      <td>0</td>\n      <td>0</td>\n      <td>0</td>\n      <td>0</td>\n      <td>0</td>\n      <td>...</td>\n      <td>28809</td>\n      <td>29501</td>\n      <td>30150</td>\n      <td>30689</td>\n      <td>31316</td>\n      <td>31662</td>\n      <td>31930</td>\n      <td>32141</td>\n      <td>32769</td>\n      <td>33264</td>\n    </tr>\n    <tr>\n      <th>Italy</th>\n      <td>0</td>\n      <td>0</td>\n      <td>0</td>\n      <td>0</td>\n      <td>0</td>\n      <td>0</td>\n      <td>0</td>\n      <td>0</td>\n      <td>0</td>\n      <td>0</td>\n      <td>...</td>\n      <td>29079</td>\n      <td>29315</td>\n      <td>29684</td>\n      <td>29958</td>\n      <td>30201</td>\n      <td>30395</td>\n      <td>30560</td>\n      <td>30739</td>\n      <td>30911</td>\n      <td>31106</td>\n    </tr>\n    <tr>\n      <th>Spain</th>\n      <td>0</td>\n      <td>0</td>\n      <td>0</td>\n      <td>0</td>\n      <td>0</td>\n      <td>0</td>\n      <td>0</td>\n      <td>0</td>\n      <td>0</td>\n      <td>0</td>\n      <td>...</td>\n      <td>25428</td>\n      <td>25613</td>\n      <td>25857</td>\n      <td>26070</td>\n      <td>26299</td>\n      <td>26478</td>\n      <td>26621</td>\n      <td>26744</td>\n      <td>26920</td>\n      <td>27104</td>\n    </tr>\n    <tr>\n      <th>France</th>\n      <td>0</td>\n      <td>0</td>\n      <td>0</td>\n      <td>0</td>\n      <td>0</td>\n      <td>0</td>\n      <td>0</td>\n      <td>0</td>\n      <td>0</td>\n      <td>0</td>\n      <td>...</td>\n      <td>25204</td>\n      <td>25537</td>\n      <td>25812</td>\n      <td>25990</td>\n      <td>26233</td>\n      <td>26313</td>\n      <td>26383</td>\n      <td>26646</td>\n      <td>26994</td>\n      <td>27077</td>\n    </tr>\n    <tr>\n      <th>...</th>\n      <td>...</td>\n      <td>...</td>\n      <td>...</td>\n      <td>...</td>\n      <td>...</td>\n      <td>...</td>\n      <td>...</td>\n      <td>...</td>\n      <td>...</td>\n      <td>...</td>\n      <td>...</td>\n      <td>...</td>\n      <td>...</td>\n      <td>...</td>\n      <td>...</td>\n      <td>...</td>\n      <td>...</td>\n      <td>...</td>\n      <td>...</td>\n      <td>...</td>\n      <td>...</td>\n    </tr>\n    <tr>\n      <th>Holy See</th>\n      <td>0</td>\n      <td>0</td>\n      <td>0</td>\n      <td>0</td>\n      <td>0</td>\n      <td>0</td>\n      <td>0</td>\n      <td>0</td>\n      <td>0</td>\n      <td>0</td>\n      <td>...</td>\n      <td>0</td>\n      <td>0</td>\n      <td>0</td>\n      <td>0</td>\n      <td>0</td>\n      <td>0</td>\n      <td>0</td>\n      <td>0</td>\n      <td>0</td>\n      <td>0</td>\n    </tr>\n    <tr>\n      <th>Laos</th>\n      <td>0</td>\n      <td>0</td>\n      <td>0</td>\n      <td>0</td>\n      <td>0</td>\n      <td>0</td>\n      <td>0</td>\n      <td>0</td>\n      <td>0</td>\n      <td>0</td>\n      <td>...</td>\n      <td>0</td>\n      <td>0</td>\n      <td>0</td>\n      <td>0</td>\n      <td>0</td>\n      <td>0</td>\n      <td>0</td>\n      <td>0</td>\n      <td>0</td>\n      <td>0</td>\n    </tr>\n    <tr>\n      <th>Lesotho</th>\n      <td>0</td>\n      <td>0</td>\n      <td>0</td>\n      <td>0</td>\n      <td>0</td>\n      <td>0</td>\n      <td>0</td>\n      <td>0</td>\n      <td>0</td>\n      <td>0</td>\n      <td>...</td>\n      <td>0</td>\n      <td>0</td>\n      <td>0</td>\n      <td>0</td>\n      <td>0</td>\n      <td>0</td>\n      <td>0</td>\n      <td>0</td>\n      <td>0</td>\n      <td>0</td>\n    </tr>\n    <tr>\n      <th>Saint Lucia</th>\n      <td>0</td>\n      <td>0</td>\n      <td>0</td>\n      <td>0</td>\n      <td>0</td>\n      <td>0</td>\n      <td>0</td>\n      <td>0</td>\n      <td>0</td>\n      <td>0</td>\n      <td>...</td>\n      <td>0</td>\n      <td>0</td>\n      <td>0</td>\n      <td>0</td>\n      <td>0</td>\n      <td>0</td>\n      <td>0</td>\n      <td>0</td>\n      <td>0</td>\n      <td>0</td>\n    </tr>\n    <tr>\n      <th>Eritrea</th>\n      <td>0</td>\n      <td>0</td>\n      <td>0</td>\n      <td>0</td>\n      <td>0</td>\n      <td>0</td>\n      <td>0</td>\n      <td>0</td>\n      <td>0</td>\n      <td>0</td>\n      <td>...</td>\n      <td>0</td>\n      <td>0</td>\n      <td>0</td>\n      <td>0</td>\n      <td>0</td>\n      <td>0</td>\n      <td>0</td>\n      <td>0</td>\n      <td>0</td>\n      <td>0</td>\n    </tr>\n  </tbody>\n</table>\n<p>188 rows × 113 columns</p>\n</div>"
     },
     "metadata": {},
     "execution_count": 1
    }
   ],
   "source": [
    "import pandas as pd\n",
    "import numpy as np \n",
    "\n",
    "pd.set_option('display.max_colwidth', None)\n",
    "pd.set_option('display.max_rows', 50)\n",
    "pd.set_option('display.float_format', '{:.2f}'.format)\n",
    "\n",
    "df = pd.read_csv('time_series_covid19_deaths_global.csv')\n",
    "df = df.rename(columns={'Country/Region': 'Pais'})\n",
    "df = df.groupby('Pais').agg(np.sum)\n",
    "df = df.sort_values('5/11/20', ascending=False)\n",
    "# df[df['Province/State'].notnull()][:50]\n",
    "# df[df['Country/Region'] == 'France']\n",
    "df = df.iloc[:,2:]\n",
    "df"
   ]
  },
  {
   "cell_type": "code",
   "execution_count": 117,
   "metadata": {},
   "outputs": [],
   "source": [
    "# df2.iloc[0,-10:][:7]\n",
    "# df.columns[-4]"
   ]
  },
  {
   "cell_type": "code",
   "execution_count": 175,
   "metadata": {},
   "outputs": [],
   "source": [
    "# df = df.drop(columns=['Province/State','Lat', 'Long'])\n",
    "# df = df.set_index('Pais')\n",
    "# df.head(5)"
   ]
  },
  {
   "cell_type": "code",
   "execution_count": 2,
   "metadata": {},
   "outputs": [
    {
     "output_type": "execute_result",
     "data": {
      "text/plain": "                1/23/20  1/24/20  1/25/20  1/26/20  1/27/20  1/28/20  1/29/20  \\\nPais                                                                            \nUS                    0        0        0        0        0        0        0   \nUnited Kingdom        0        0        0        0        0        0        0   \nItaly                 0        0        0        0        0        0        0   \nSpain                 0        0        0        0        0        0        0   \nFrance                0        0        0        0        0        0        0   \nBrazil                0        0        0        0        0        0        0   \nBelgium               0        0        0        0        0        0        0   \nGermany               0        0        0        0        0        0        0   \nIran                  0        0        0        0        0        0        0   \nNetherlands           0        0        0        0        0        0        0   \n\n                1/30/20  1/31/20  2/1/20  ...  5/4/20  5/5/20  5/6/20  5/7/20  \\\nPais                                      ...                                   \nUS                    0        0       0  ...    1240    2142    2391    2207   \nUnited Kingdom        0        0       0  ...     289     692     649     539   \nItaly                 0        0       0  ...     195     236     369     274   \nSpain                 0        0       0  ...     164     185     244     213   \nFrance                0        0       0  ...     304     333     275     178   \nBrazil                0        0       0  ...     316     571     650     602   \nBelgium               0        0       0  ...      80      92     323      76   \nGermany               0        0       0  ...     127       0     282     117   \nIran                  0        0       0  ...      74      63      78      68   \nNetherlands           0        0       0  ...      26      87      36      85   \n\n                5/8/20  5/9/20  5/10/20  5/11/20  5/12/20  5/13/20  \nPais                                                                \nUS                1518    1615      731     1156     1674     1763  \nUnited Kingdom     627     346      268      211      628      495  \nItaly              243     194      165      179      172      195  \nSpain              229     179      143      123      176      184  \nFrance             243      80       70      263      348       83  \nBrazil             827     639      467      530      808      779  \nBelgium            106      60       75       51       54       82  \nGermany            118      39       20       92       77      123  \nIran                55      48       51       45       48       50  \nNetherlands         71      64       18       16       54       52  \n\n[10 rows x 112 columns]",
      "text/html": "<div>\n<style scoped>\n    .dataframe tbody tr th:only-of-type {\n        vertical-align: middle;\n    }\n\n    .dataframe tbody tr th {\n        vertical-align: top;\n    }\n\n    .dataframe thead th {\n        text-align: right;\n    }\n</style>\n<table border=\"1\" class=\"dataframe\">\n  <thead>\n    <tr style=\"text-align: right;\">\n      <th></th>\n      <th>1/23/20</th>\n      <th>1/24/20</th>\n      <th>1/25/20</th>\n      <th>1/26/20</th>\n      <th>1/27/20</th>\n      <th>1/28/20</th>\n      <th>1/29/20</th>\n      <th>1/30/20</th>\n      <th>1/31/20</th>\n      <th>2/1/20</th>\n      <th>...</th>\n      <th>5/4/20</th>\n      <th>5/5/20</th>\n      <th>5/6/20</th>\n      <th>5/7/20</th>\n      <th>5/8/20</th>\n      <th>5/9/20</th>\n      <th>5/10/20</th>\n      <th>5/11/20</th>\n      <th>5/12/20</th>\n      <th>5/13/20</th>\n    </tr>\n    <tr>\n      <th>Pais</th>\n      <th></th>\n      <th></th>\n      <th></th>\n      <th></th>\n      <th></th>\n      <th></th>\n      <th></th>\n      <th></th>\n      <th></th>\n      <th></th>\n      <th></th>\n      <th></th>\n      <th></th>\n      <th></th>\n      <th></th>\n      <th></th>\n      <th></th>\n      <th></th>\n      <th></th>\n      <th></th>\n      <th></th>\n    </tr>\n  </thead>\n  <tbody>\n    <tr>\n      <th>US</th>\n      <td>0</td>\n      <td>0</td>\n      <td>0</td>\n      <td>0</td>\n      <td>0</td>\n      <td>0</td>\n      <td>0</td>\n      <td>0</td>\n      <td>0</td>\n      <td>0</td>\n      <td>...</td>\n      <td>1240</td>\n      <td>2142</td>\n      <td>2391</td>\n      <td>2207</td>\n      <td>1518</td>\n      <td>1615</td>\n      <td>731</td>\n      <td>1156</td>\n      <td>1674</td>\n      <td>1763</td>\n    </tr>\n    <tr>\n      <th>United Kingdom</th>\n      <td>0</td>\n      <td>0</td>\n      <td>0</td>\n      <td>0</td>\n      <td>0</td>\n      <td>0</td>\n      <td>0</td>\n      <td>0</td>\n      <td>0</td>\n      <td>0</td>\n      <td>...</td>\n      <td>289</td>\n      <td>692</td>\n      <td>649</td>\n      <td>539</td>\n      <td>627</td>\n      <td>346</td>\n      <td>268</td>\n      <td>211</td>\n      <td>628</td>\n      <td>495</td>\n    </tr>\n    <tr>\n      <th>Italy</th>\n      <td>0</td>\n      <td>0</td>\n      <td>0</td>\n      <td>0</td>\n      <td>0</td>\n      <td>0</td>\n      <td>0</td>\n      <td>0</td>\n      <td>0</td>\n      <td>0</td>\n      <td>...</td>\n      <td>195</td>\n      <td>236</td>\n      <td>369</td>\n      <td>274</td>\n      <td>243</td>\n      <td>194</td>\n      <td>165</td>\n      <td>179</td>\n      <td>172</td>\n      <td>195</td>\n    </tr>\n    <tr>\n      <th>Spain</th>\n      <td>0</td>\n      <td>0</td>\n      <td>0</td>\n      <td>0</td>\n      <td>0</td>\n      <td>0</td>\n      <td>0</td>\n      <td>0</td>\n      <td>0</td>\n      <td>0</td>\n      <td>...</td>\n      <td>164</td>\n      <td>185</td>\n      <td>244</td>\n      <td>213</td>\n      <td>229</td>\n      <td>179</td>\n      <td>143</td>\n      <td>123</td>\n      <td>176</td>\n      <td>184</td>\n    </tr>\n    <tr>\n      <th>France</th>\n      <td>0</td>\n      <td>0</td>\n      <td>0</td>\n      <td>0</td>\n      <td>0</td>\n      <td>0</td>\n      <td>0</td>\n      <td>0</td>\n      <td>0</td>\n      <td>0</td>\n      <td>...</td>\n      <td>304</td>\n      <td>333</td>\n      <td>275</td>\n      <td>178</td>\n      <td>243</td>\n      <td>80</td>\n      <td>70</td>\n      <td>263</td>\n      <td>348</td>\n      <td>83</td>\n    </tr>\n    <tr>\n      <th>Brazil</th>\n      <td>0</td>\n      <td>0</td>\n      <td>0</td>\n      <td>0</td>\n      <td>0</td>\n      <td>0</td>\n      <td>0</td>\n      <td>0</td>\n      <td>0</td>\n      <td>0</td>\n      <td>...</td>\n      <td>316</td>\n      <td>571</td>\n      <td>650</td>\n      <td>602</td>\n      <td>827</td>\n      <td>639</td>\n      <td>467</td>\n      <td>530</td>\n      <td>808</td>\n      <td>779</td>\n    </tr>\n    <tr>\n      <th>Belgium</th>\n      <td>0</td>\n      <td>0</td>\n      <td>0</td>\n      <td>0</td>\n      <td>0</td>\n      <td>0</td>\n      <td>0</td>\n      <td>0</td>\n      <td>0</td>\n      <td>0</td>\n      <td>...</td>\n      <td>80</td>\n      <td>92</td>\n      <td>323</td>\n      <td>76</td>\n      <td>106</td>\n      <td>60</td>\n      <td>75</td>\n      <td>51</td>\n      <td>54</td>\n      <td>82</td>\n    </tr>\n    <tr>\n      <th>Germany</th>\n      <td>0</td>\n      <td>0</td>\n      <td>0</td>\n      <td>0</td>\n      <td>0</td>\n      <td>0</td>\n      <td>0</td>\n      <td>0</td>\n      <td>0</td>\n      <td>0</td>\n      <td>...</td>\n      <td>127</td>\n      <td>0</td>\n      <td>282</td>\n      <td>117</td>\n      <td>118</td>\n      <td>39</td>\n      <td>20</td>\n      <td>92</td>\n      <td>77</td>\n      <td>123</td>\n    </tr>\n    <tr>\n      <th>Iran</th>\n      <td>0</td>\n      <td>0</td>\n      <td>0</td>\n      <td>0</td>\n      <td>0</td>\n      <td>0</td>\n      <td>0</td>\n      <td>0</td>\n      <td>0</td>\n      <td>0</td>\n      <td>...</td>\n      <td>74</td>\n      <td>63</td>\n      <td>78</td>\n      <td>68</td>\n      <td>55</td>\n      <td>48</td>\n      <td>51</td>\n      <td>45</td>\n      <td>48</td>\n      <td>50</td>\n    </tr>\n    <tr>\n      <th>Netherlands</th>\n      <td>0</td>\n      <td>0</td>\n      <td>0</td>\n      <td>0</td>\n      <td>0</td>\n      <td>0</td>\n      <td>0</td>\n      <td>0</td>\n      <td>0</td>\n      <td>0</td>\n      <td>...</td>\n      <td>26</td>\n      <td>87</td>\n      <td>36</td>\n      <td>85</td>\n      <td>71</td>\n      <td>64</td>\n      <td>18</td>\n      <td>16</td>\n      <td>54</td>\n      <td>52</td>\n    </tr>\n  </tbody>\n</table>\n<p>10 rows × 112 columns</p>\n</div>"
     },
     "metadata": {},
     "execution_count": 2
    }
   ],
   "source": [
    "tam = len(df.columns)\n",
    "df1 = df.iloc[:,1:tam]\n",
    "df1.columns = list(range(0,tam-1))\n",
    "df2 = df.iloc[:,0:tam-1]\n",
    "df2.columns = list(range(0,tam-1))\n",
    "df3 = df1 - df2\n",
    "df3.columns = df.columns[1:]\n",
    "df3.head(10)"
   ]
  },
  {
   "cell_type": "code",
   "execution_count": 3,
   "metadata": {},
   "outputs": [
    {
     "output_type": "execute_result",
     "data": {
      "text/plain": "                4/30/20  5/1/20  5/2/20  5/3/20  5/4/20  5/5/20  5/6/20  \\\nPais                                                                      \nUS                 1896    1921    1802    1828    1814    1815    1784   \nBrazil              382     386     386     395     394     407     439   \nUnited Kingdom      714     675     644     629     621     590     569   \nItaly               345     323     332     320     300     279     286   \nFrance              360     335     306     291     272     267     246   \nSpain               340     288     314     296     272     255     226   \nMexico              112     107     108     114     119     134     138   \nCanada              152     162     159     158     166     172     173   \nBelgium             157     146     121     107     102      97     119   \nIndia                61      63      71      72      89      97     100   \n\n                5/7/20  5/8/20  5/9/20  5/10/20  5/11/20  5/12/20  5/13/20  \nPais                                                                        \nUS                1809    1748    1775     1692     1680     1613     1523  \nBrazil             454     515     556      581      612      646      664  \nUnited Kingdom     549     533     493      487      476      466      444  \nItaly              284     280     240      239      237      228      203  \nFrance             230     233     221      211      206      208      180  \nSpain              218     250     196      193      188      186      178  \nMexico             157     169     184      187      186      202      216  \nCanada             175     165     162      170      158      158      151  \nBelgium            117     116     116      116      111      106       72  \nIndia              105     108     111      117      104      103      109  ",
      "text/html": "<div>\n<style scoped>\n    .dataframe tbody tr th:only-of-type {\n        vertical-align: middle;\n    }\n\n    .dataframe tbody tr th {\n        vertical-align: top;\n    }\n\n    .dataframe thead th {\n        text-align: right;\n    }\n</style>\n<table border=\"1\" class=\"dataframe\">\n  <thead>\n    <tr style=\"text-align: right;\">\n      <th></th>\n      <th>4/30/20</th>\n      <th>5/1/20</th>\n      <th>5/2/20</th>\n      <th>5/3/20</th>\n      <th>5/4/20</th>\n      <th>5/5/20</th>\n      <th>5/6/20</th>\n      <th>5/7/20</th>\n      <th>5/8/20</th>\n      <th>5/9/20</th>\n      <th>5/10/20</th>\n      <th>5/11/20</th>\n      <th>5/12/20</th>\n      <th>5/13/20</th>\n    </tr>\n    <tr>\n      <th>Pais</th>\n      <th></th>\n      <th></th>\n      <th></th>\n      <th></th>\n      <th></th>\n      <th></th>\n      <th></th>\n      <th></th>\n      <th></th>\n      <th></th>\n      <th></th>\n      <th></th>\n      <th></th>\n      <th></th>\n    </tr>\n  </thead>\n  <tbody>\n    <tr>\n      <th>US</th>\n      <td>1896</td>\n      <td>1921</td>\n      <td>1802</td>\n      <td>1828</td>\n      <td>1814</td>\n      <td>1815</td>\n      <td>1784</td>\n      <td>1809</td>\n      <td>1748</td>\n      <td>1775</td>\n      <td>1692</td>\n      <td>1680</td>\n      <td>1613</td>\n      <td>1523</td>\n    </tr>\n    <tr>\n      <th>Brazil</th>\n      <td>382</td>\n      <td>386</td>\n      <td>386</td>\n      <td>395</td>\n      <td>394</td>\n      <td>407</td>\n      <td>439</td>\n      <td>454</td>\n      <td>515</td>\n      <td>556</td>\n      <td>581</td>\n      <td>612</td>\n      <td>646</td>\n      <td>664</td>\n    </tr>\n    <tr>\n      <th>United Kingdom</th>\n      <td>714</td>\n      <td>675</td>\n      <td>644</td>\n      <td>629</td>\n      <td>621</td>\n      <td>590</td>\n      <td>569</td>\n      <td>549</td>\n      <td>533</td>\n      <td>493</td>\n      <td>487</td>\n      <td>476</td>\n      <td>466</td>\n      <td>444</td>\n    </tr>\n    <tr>\n      <th>Italy</th>\n      <td>345</td>\n      <td>323</td>\n      <td>332</td>\n      <td>320</td>\n      <td>300</td>\n      <td>279</td>\n      <td>286</td>\n      <td>284</td>\n      <td>280</td>\n      <td>240</td>\n      <td>239</td>\n      <td>237</td>\n      <td>228</td>\n      <td>203</td>\n    </tr>\n    <tr>\n      <th>France</th>\n      <td>360</td>\n      <td>335</td>\n      <td>306</td>\n      <td>291</td>\n      <td>272</td>\n      <td>267</td>\n      <td>246</td>\n      <td>230</td>\n      <td>233</td>\n      <td>221</td>\n      <td>211</td>\n      <td>206</td>\n      <td>208</td>\n      <td>180</td>\n    </tr>\n    <tr>\n      <th>Spain</th>\n      <td>340</td>\n      <td>288</td>\n      <td>314</td>\n      <td>296</td>\n      <td>272</td>\n      <td>255</td>\n      <td>226</td>\n      <td>218</td>\n      <td>250</td>\n      <td>196</td>\n      <td>193</td>\n      <td>188</td>\n      <td>186</td>\n      <td>178</td>\n    </tr>\n    <tr>\n      <th>Mexico</th>\n      <td>112</td>\n      <td>107</td>\n      <td>108</td>\n      <td>114</td>\n      <td>119</td>\n      <td>134</td>\n      <td>138</td>\n      <td>157</td>\n      <td>169</td>\n      <td>184</td>\n      <td>187</td>\n      <td>186</td>\n      <td>202</td>\n      <td>216</td>\n    </tr>\n    <tr>\n      <th>Canada</th>\n      <td>152</td>\n      <td>162</td>\n      <td>159</td>\n      <td>158</td>\n      <td>166</td>\n      <td>172</td>\n      <td>173</td>\n      <td>175</td>\n      <td>165</td>\n      <td>162</td>\n      <td>170</td>\n      <td>158</td>\n      <td>158</td>\n      <td>151</td>\n    </tr>\n    <tr>\n      <th>Belgium</th>\n      <td>157</td>\n      <td>146</td>\n      <td>121</td>\n      <td>107</td>\n      <td>102</td>\n      <td>97</td>\n      <td>119</td>\n      <td>117</td>\n      <td>116</td>\n      <td>116</td>\n      <td>116</td>\n      <td>111</td>\n      <td>106</td>\n      <td>72</td>\n    </tr>\n    <tr>\n      <th>India</th>\n      <td>61</td>\n      <td>63</td>\n      <td>71</td>\n      <td>72</td>\n      <td>89</td>\n      <td>97</td>\n      <td>100</td>\n      <td>105</td>\n      <td>108</td>\n      <td>111</td>\n      <td>117</td>\n      <td>104</td>\n      <td>103</td>\n      <td>109</td>\n    </tr>\n  </tbody>\n</table>\n</div>"
     },
     "metadata": {},
     "execution_count": 3
    }
   ],
   "source": [
    "df4 = df3.copy()\n",
    "for x in df3.index:\n",
    "    # print(x)\n",
    "    for c in range(0,tam):\n",
    "        # print(c)\n",
    "        if c >= 7:\n",
    "            # print(f'{df.columns[c]:<15} {df3.loc[x][c-7:c].mean():10,.0f}')\n",
    "            df4.at[x, df.columns[c]] = df3.loc[x][c-7:c].mean()\n",
    "df4 = df4.sort_values('5/11/20', ascending=False)\n",
    "df4.iloc[:10,-14:]"
   ]
  },
  {
   "cell_type": "code",
   "execution_count": 4,
   "metadata": {
    "scrolled": true
   },
   "outputs": [
    {
     "output_type": "stream",
     "name": "stdout",
     "text": "US                    2201 4/18/20\nBrazil                 664 5/13/20\nUnited Kingdom         944 4/14/20\nItaly                  814 4/2/20\nFrance                 975 4/9/20\nSpain                  865 4/3/20\nMexico                 216 5/13/20\nCanada                 175 5/7/20\nBelgium                333 4/16/20\nIndia                  117 5/10/20\nGermany                248 4/21/20\nRussia                  96 5/13/20\nPeru                    90 5/13/20\nEcuador                141 5/3/20\nSweden                 107 4/24/20\nIran                   140 4/6/20\nTurkey                 122 4/21/20\nNetherlands            154 4/8/20\nPakistan                32 5/11/20\nRomania                 25 4/25/20\nIreland                 70 4/25/20\nIndonesia               34 4/14/20\nColombia                17 5/6/20\nPoland                  28 4/29/20\nUkraine                 16 5/13/20\nPhilippines             23 4/15/20\nJapan                   23 5/5/20\nEgypt                   16 5/1/20\nPortugal                32 4/13/20\nHungary                 15 4/24/20\nUnited Arab Emirates    10 5/10/20\nSaudi Arabia             9 5/9/20\nSouth Africa             9 5/9/20\nSwitzerland             59 4/5/20\nBangladesh              11 5/13/20\nCameroon                 8 5/11/20\nNigeria                  8 5/10/20\nChile                   10 5/3/20\nArgentina                9 5/4/20\nPanama                   7 5/11/20\nMoldova                  6 5/10/20\nDominican Republic      13 4/12/20\nAlgeria                 21 4/7/20\nBosnia and Herzegovina     5 5/11/20\nBolivia                  7 5/13/20\nDenmark                 16 4/7/20\nHonduras                 4 5/5/20\nAfghanistan              6 5/6/20\nBelarus                  5 5/12/20\nSudan                    5 5/12/20\nFinland                 13 4/23/20\nCzechia                 10 4/11/20\nSerbia                   6 4/6/20\nIsrael                   9 4/18/20\nKuwait                   5 5/12/20\nChad                     3 5/7/20\nTajikistan               2 5/9/20\nAustria                 21 4/10/20\nSomalia                  2 4/26/20\nBulgaria                 3 5/5/20\nCongo (Kinshasa)         2 5/13/20\nNiger                    1 4/4/20\nArmenia                  1 4/14/20\nYemen                    1 5/11/20\nMali                     1 4/14/20\nKenya                    2 5/13/20\nSierra Leone             1 5/5/20\nSenegal                  1 5/9/20\nGuatemala                1 4/26/20\nCroatia                  3 4/19/20\nCuba                     2 4/17/20\nNorway                   8 4/8/20\nMorocco                  8 4/10/20\nIraq                     3 3/26/20\nGrenada                  0 1/23/20\nGuinea-Bissau            0 1/23/20\nSuriname                 0 1/23/20\nBurundi                  0 1/23/20\nBotswana                 0 1/23/20\nMS Zaandam               0 1/23/20\nCabo Verde               0 1/23/20\nBelize                   0 1/23/20\nWest Bank and Gaza       0 1/23/20\nEswatini                 0 1/23/20\nBenin                    0 1/23/20\nAngola                   0 1/23/20\nMalawi                   0 1/23/20\nComoros                  0 1/23/20\nLibya                    0 1/23/20\nMaldives                 0 1/23/20\nSyria                    0 1/23/20\nAntigua and Barbuda      0 1/23/20\nDjibouti                 0 1/23/20\nMonaco                   0 1/23/20\nZimbabwe                 0 1/23/20\nSaint Lucia              0 1/23/20\nEquatorial Guinea        0 1/23/20\nSao Tome and Principe     0 1/23/20\nNicaragua                0 1/23/20\nMalta                    0 1/23/20\nEthiopia                 0 1/23/20\nBrunei                   0 1/23/20\nLesotho                  0 1/23/20\nGambia                   0 1/23/20\nSaint Vincent and the Grenadines     0 1/23/20\nSeychelles               0 1/23/20\nFiji                     0 1/23/20\nRwanda                   0 1/23/20\nSouth Sudan              0 1/23/20\nCosta Rica               0 1/23/20\nSaint Kitts and Nevis     0 1/23/20\nCentral African Republic     0 1/23/20\nBhutan                   0 1/23/20\nCambodia                 0 1/23/20\nPapua New Guinea         0 1/23/20\nTimor-Leste              0 1/23/20\nHoly See                 0 1/23/20\nDominica                 0 1/23/20\nWestern Sahara           0 1/23/20\nVietnam                  0 1/23/20\nNepal                    0 1/23/20\nUganda                   0 1/23/20\nNamibia                  0 1/23/20\nMadagascar               0 1/23/20\nLaos                     0 1/23/20\nMozambique               0 1/23/20\nMongolia                 0 1/23/20\nLiechtenstein            0 1/23/20\nMauritania               0 1/23/20\nBurma                    0 1/23/20\nCote d'Ivoire            1 4/21/20\nBarbados                 0 1/23/20\nUruguay                  0 1/23/20\nNew Zealand              1 4/14/20\nSingapore                0 1/23/20\nTanzania                 1 4/20/20\nGhana                    1 4/28/20\nLebanon                  1 3/30/20\nSlovakia                 1 4/17/20\nKosovo                   1 4/20/20\nAlbania                  1 3/28/20\nAzerbaijan               1 4/18/20\nKazakhstan               1 4/14/20\nSan Marino               2 3/21/20\nTunisia                  2 4/5/20\nAndorra                  2 4/4/20\nBurkina Faso             1 3/27/20\nLithuania                2 4/14/20\nThailand                 2 4/3/20\nEstonia                  2 4/6/20\nNorth Macedonia          3 4/30/20\nAustralia                4 4/8/20\nLuxembourg               4 4/11/20\nSlovenia                 4 4/11/20\nMalaysia                 4 4/4/20\nGreece                   5 4/3/20\nKorea, South             6 3/25/20\nChina                  185 4/17/20\nLiberia                  1 4/28/20\nEl Salvador              0 1/23/20\nTaiwan*                  0 1/23/20\nLatvia                   1 4/24/20\nZambia                   0 1/23/20\nBahrain                  0 1/23/20\nTrinidad and Tobago      0 1/23/20\nSri Lanka                0 1/23/20\nMontenegro               0 1/23/20\nGabon                    0 1/23/20\nJordan                   0 1/23/20\nJamaica                  0 1/23/20\nMauritius                0 1/23/20\nIceland                  0 1/23/20\nGuyana                   0 1/23/20\nUzbekistan               0 1/23/20\nParaguay                 0 1/23/20\nVenezuela                0 1/23/20\nGeorgia                  0 1/23/20\nCongo (Brazzaville)      0 1/23/20\nGuinea                   0 1/23/20\nBahamas                  1 4/9/20\nTogo                     0 1/23/20\nKyrgyzstan               0 1/23/20\nDiamond Princess         0 1/23/20\nQatar                    0 1/23/20\nHaiti                    0 1/23/20\nCyprus                   1 4/2/20\nOman                     0 1/23/20\nEritrea                  0 1/23/20\n"
    }
   ],
   "source": [
    "q_pico = []\n",
    "d_pico = []\n",
    "for x in df4.index:\n",
    "    # print(f'{x:<20} {df4.loc[x].max():5} {df4.columns[df4.loc[x].argmax()]}')\n",
    "    q_pico.append(df4.loc[x].max())\n",
    "    d_pico.append(df4.columns[df4.loc[x].argmax()])"
   ]
  },
  {
   "cell_type": "code",
   "execution_count": 5,
   "metadata": {},
   "outputs": [
    {
     "output_type": "execute_result",
     "data": {
      "text/plain": "                Ult_7_Dias  Pico Dia_do_Pico  Delta %\nPais                                                 \nUS                    1523  2201     4/18/20    -0.31\nBrazil                 664   664     5/13/20     0.00\nUnited Kingdom         444   944     4/14/20    -0.53\nMexico                 216   216     5/13/20     0.00\nItaly                  203   814      4/2/20    -0.75\nFrance                 180   975      4/9/20    -0.82\nSpain                  178   865      4/3/20    -0.79\nCanada                 151   175      5/7/20    -0.14\nIndia                  109   117     5/10/20    -0.07\nEcuador                102   141      5/3/20    -0.28",
      "text/html": "<div>\n<style scoped>\n    .dataframe tbody tr th:only-of-type {\n        vertical-align: middle;\n    }\n\n    .dataframe tbody tr th {\n        vertical-align: top;\n    }\n\n    .dataframe thead th {\n        text-align: right;\n    }\n</style>\n<table border=\"1\" class=\"dataframe\">\n  <thead>\n    <tr style=\"text-align: right;\">\n      <th></th>\n      <th>Ult_7_Dias</th>\n      <th>Pico</th>\n      <th>Dia_do_Pico</th>\n      <th>Delta %</th>\n    </tr>\n    <tr>\n      <th>Pais</th>\n      <th></th>\n      <th></th>\n      <th></th>\n      <th></th>\n    </tr>\n  </thead>\n  <tbody>\n    <tr>\n      <th>US</th>\n      <td>1523</td>\n      <td>2201</td>\n      <td>4/18/20</td>\n      <td>-0.31</td>\n    </tr>\n    <tr>\n      <th>Brazil</th>\n      <td>664</td>\n      <td>664</td>\n      <td>5/13/20</td>\n      <td>0.00</td>\n    </tr>\n    <tr>\n      <th>United Kingdom</th>\n      <td>444</td>\n      <td>944</td>\n      <td>4/14/20</td>\n      <td>-0.53</td>\n    </tr>\n    <tr>\n      <th>Mexico</th>\n      <td>216</td>\n      <td>216</td>\n      <td>5/13/20</td>\n      <td>0.00</td>\n    </tr>\n    <tr>\n      <th>Italy</th>\n      <td>203</td>\n      <td>814</td>\n      <td>4/2/20</td>\n      <td>-0.75</td>\n    </tr>\n    <tr>\n      <th>France</th>\n      <td>180</td>\n      <td>975</td>\n      <td>4/9/20</td>\n      <td>-0.82</td>\n    </tr>\n    <tr>\n      <th>Spain</th>\n      <td>178</td>\n      <td>865</td>\n      <td>4/3/20</td>\n      <td>-0.79</td>\n    </tr>\n    <tr>\n      <th>Canada</th>\n      <td>151</td>\n      <td>175</td>\n      <td>5/7/20</td>\n      <td>-0.14</td>\n    </tr>\n    <tr>\n      <th>India</th>\n      <td>109</td>\n      <td>117</td>\n      <td>5/10/20</td>\n      <td>-0.07</td>\n    </tr>\n    <tr>\n      <th>Ecuador</th>\n      <td>102</td>\n      <td>141</td>\n      <td>5/3/20</td>\n      <td>-0.28</td>\n    </tr>\n  </tbody>\n</table>\n</div>"
     },
     "metadata": {},
     "execution_count": 5
    }
   ],
   "source": [
    "df5 = pd.DataFrame(df4.iloc[:,-1], index=df4.index)\n",
    "df5['Q_Pico'] = pd.Series(q_pico, index=df4.index)\n",
    "df5['D_Pico'] = pd.Series(d_pico, index=df4.index)\n",
    "df5.columns = ['Ult_7_Dias', 'Pico', 'Dia_do_Pico']\n",
    "df5['Delta %'] = df5['Ult_7_Dias'] / df5['Pico'] - 1\n",
    "df5 = df5.sort_values('Ult_7_Dias', ascending=False)\n",
    "df5.head(10)"
   ]
  },
  {
   "cell_type": "markdown",
   "metadata": {},
   "source": [
    "### Número de óbtidos por COVID-19\n",
    "    Ranking 10 maiores países - considerando últ 7 dias\n",
    "    Valores apresentam média diária de óbitos em 7 dias\n",
    "    Atualizado com dados até 13/05/2020\n",
    "    Data no formato mm/dd/aa\n",
    "    Fonte: CSSE at Johns Hopkins University\n",
    "    https://github.com/CSSEGISandData\n",
    "    "
   ]
  },
  {
   "cell_type": "markdown",
   "metadata": {},
   "source": [
    "# Título tam 1"
   ]
  },
  {
   "cell_type": "markdown",
   "metadata": {},
   "source": [
    "## Título tam 2"
   ]
  },
  {
   "cell_type": "markdown",
   "metadata": {},
   "source": [
    "### Título tam 3"
   ]
  },
  {
   "cell_type": "code",
   "execution_count": null,
   "metadata": {},
   "outputs": [],
   "source": [
    "\tUlt_7_Dias\tPico\tDia_do_Pico\tDelta %\n",
    "Pais\t\t\t\t\n",
    "US\t1613\t2201\t4/18/20\t-0.27\n",
    "Brazil\t646\t646\t5/12/20\t0.00\n",
    "United Kingdom\t466\t944\t4/14/20\t-0.51\n",
    "Italy\t228\t814\t4/2/20\t-0.72\n",
    "France\t208\t975\t4/9/20\t-0.79\n",
    "Mexico\t202\t202\t5/12/20\t0.00\n",
    "Spain\t186\t865\t4/3/20\t-0.78\n",
    "Canada\t158\t175\t5/7/20\t-0.10\n",
    "Ecuador\t108\t141\t5/3/20\t-0.23\n",
    "Germany\t106\t248\t4/21/20\t-0.57"
   ]
  }
 ],
 "metadata": {
  "kernelspec": {
   "display_name": "Python 3.8.1 64-bit",
   "language": "python",
   "name": "python38164bitaf526a739cc24cf3b62b1505acdc52e6"
  },
  "language_info": {
   "codemirror_mode": {
    "name": "ipython",
    "version": 3
   },
   "file_extension": ".py",
   "mimetype": "text/x-python",
   "name": "python",
   "nbconvert_exporter": "python",
   "pygments_lexer": "ipython3",
   "version": "3.8.1-final"
  }
 },
 "nbformat": 4,
 "nbformat_minor": 4
}
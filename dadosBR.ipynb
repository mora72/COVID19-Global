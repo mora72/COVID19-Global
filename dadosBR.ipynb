{
 "cells": [
  {
   "cell_type": "code",
   "execution_count": 2,
   "metadata": {},
   "outputs": [],
   "source": [
    "import pandas as pd\n",
    "import numpy as np \n",
    "\n",
    "pd.set_option('display.max_colwidth', None)\n",
    "pd.set_option('display.max_rows', 50)\n",
    "pd.set_option('display.float_format', '{:.2f}'.format)\n",
    "\n",
    "df = pd.read_excel('DT1_PAINEL_COVIDBR_20200512.xlsx')"
   ]
  },
  {
   "cell_type": "code",
   "execution_count": 46,
   "metadata": {},
   "outputs": [
    {
     "output_type": "execute_result",
     "data": {
      "text/plain": "             regiao estado municipio  coduf  codmun  codRegiaoSaude  \\\n18           Brasil    NaN       NaN     76     nan             nan   \n4102   Centro-Oeste     GO       NaN     52     nan             nan   \n4215   Centro-Oeste     DF       NaN     53     nan             nan   \n14899      Nordeste     RN       NaN     24     nan             nan   \n20385      Nordeste     PE       NaN     26     nan             nan   \n21569      Nordeste     AL       NaN     27     nan             nan   \n22557      Nordeste     SE       NaN     28     nan             nan   \n27203      Nordeste     BA       NaN     29     nan             nan   \n29741         Norte     AM       NaN     13     nan             nan   \n40104       Sudeste     MG       NaN     31     nan             nan   \n41878       Sudeste     ES       NaN     32     nan             nan   \n44862       Sudeste     RJ       NaN     33     nan             nan   \n55536       Sudeste     SP       NaN     35     nan             nan   \n60099           Sul     PR       NaN     41     nan             nan   \n64616           Sul     SC       NaN     42     nan             nan   \n69591           Sul     RS       NaN     43     nan             nan   \n\n      nomeRegiaoSaude        data  semanaEpi  populacaoTCU2019  \\\n18                NaN  2020-03-15         12      210147125.00   \n4102              NaN  2020-03-15         12        7018354.00   \n4215              NaN  2020-03-15         12        3015268.00   \n14899             NaN  2020-03-15         12        3506853.00   \n20385             NaN  2020-03-15         12        9557071.00   \n21569             NaN  2020-03-15         12        3337357.00   \n22557             NaN  2020-03-15         12        2298696.00   \n27203             NaN  2020-03-15         12       14873064.00   \n29741             NaN  2020-03-15         12        4144597.00   \n40104             NaN  2020-03-15         12       21168791.00   \n41878             NaN  2020-03-15         12        4018650.00   \n44862             NaN  2020-03-15         12       17264943.00   \n55536             NaN  2020-03-15         12       45919049.00   \n60099             NaN  2020-03-15         12       11433957.00   \n64616             NaN  2020-03-15         12        7164788.00   \n69591             NaN  2020-03-15         12       11377239.00   \n\n       casosAcumulado  obitosAcumulado  Recuperadosnovos  \\\n18                200                0               nan   \n4102                3                0               nan   \n4215                8                0               nan   \n14899               1                0               nan   \n20385               2                0               nan   \n21569               1                0               nan   \n22557               1                0               nan   \n27203               2                0               nan   \n29741               1                0               nan   \n40104               2                0               nan   \n41878               1                0               nan   \n44862              24                0               nan   \n55536             136                0               nan   \n60099               6                0               nan   \n64616               6                0               nan   \n69591               6                0               nan   \n\n       emAcompanhamentoNovos  \n18                       nan  \n4102                     nan  \n4215                     nan  \n14899                    nan  \n20385                    nan  \n21569                    nan  \n22557                    nan  \n27203                    nan  \n29741                    nan  \n40104                    nan  \n41878                    nan  \n44862                    nan  \n55536                    nan  \n60099                    nan  \n64616                    nan  \n69591                    nan  ",
      "text/html": "<div>\n<style scoped>\n    .dataframe tbody tr th:only-of-type {\n        vertical-align: middle;\n    }\n\n    .dataframe tbody tr th {\n        vertical-align: top;\n    }\n\n    .dataframe thead th {\n        text-align: right;\n    }\n</style>\n<table border=\"1\" class=\"dataframe\">\n  <thead>\n    <tr style=\"text-align: right;\">\n      <th></th>\n      <th>regiao</th>\n      <th>estado</th>\n      <th>municipio</th>\n      <th>coduf</th>\n      <th>codmun</th>\n      <th>codRegiaoSaude</th>\n      <th>nomeRegiaoSaude</th>\n      <th>data</th>\n      <th>semanaEpi</th>\n      <th>populacaoTCU2019</th>\n      <th>casosAcumulado</th>\n      <th>obitosAcumulado</th>\n      <th>Recuperadosnovos</th>\n      <th>emAcompanhamentoNovos</th>\n    </tr>\n  </thead>\n  <tbody>\n    <tr>\n      <th>18</th>\n      <td>Brasil</td>\n      <td>NaN</td>\n      <td>NaN</td>\n      <td>76</td>\n      <td>nan</td>\n      <td>nan</td>\n      <td>NaN</td>\n      <td>2020-03-15</td>\n      <td>12</td>\n      <td>210147125.00</td>\n      <td>200</td>\n      <td>0</td>\n      <td>nan</td>\n      <td>nan</td>\n    </tr>\n    <tr>\n      <th>4102</th>\n      <td>Centro-Oeste</td>\n      <td>GO</td>\n      <td>NaN</td>\n      <td>52</td>\n      <td>nan</td>\n      <td>nan</td>\n      <td>NaN</td>\n      <td>2020-03-15</td>\n      <td>12</td>\n      <td>7018354.00</td>\n      <td>3</td>\n      <td>0</td>\n      <td>nan</td>\n      <td>nan</td>\n    </tr>\n    <tr>\n      <th>4215</th>\n      <td>Centro-Oeste</td>\n      <td>DF</td>\n      <td>NaN</td>\n      <td>53</td>\n      <td>nan</td>\n      <td>nan</td>\n      <td>NaN</td>\n      <td>2020-03-15</td>\n      <td>12</td>\n      <td>3015268.00</td>\n      <td>8</td>\n      <td>0</td>\n      <td>nan</td>\n      <td>nan</td>\n    </tr>\n    <tr>\n      <th>14899</th>\n      <td>Nordeste</td>\n      <td>RN</td>\n      <td>NaN</td>\n      <td>24</td>\n      <td>nan</td>\n      <td>nan</td>\n      <td>NaN</td>\n      <td>2020-03-15</td>\n      <td>12</td>\n      <td>3506853.00</td>\n      <td>1</td>\n      <td>0</td>\n      <td>nan</td>\n      <td>nan</td>\n    </tr>\n    <tr>\n      <th>20385</th>\n      <td>Nordeste</td>\n      <td>PE</td>\n      <td>NaN</td>\n      <td>26</td>\n      <td>nan</td>\n      <td>nan</td>\n      <td>NaN</td>\n      <td>2020-03-15</td>\n      <td>12</td>\n      <td>9557071.00</td>\n      <td>2</td>\n      <td>0</td>\n      <td>nan</td>\n      <td>nan</td>\n    </tr>\n    <tr>\n      <th>21569</th>\n      <td>Nordeste</td>\n      <td>AL</td>\n      <td>NaN</td>\n      <td>27</td>\n      <td>nan</td>\n      <td>nan</td>\n      <td>NaN</td>\n      <td>2020-03-15</td>\n      <td>12</td>\n      <td>3337357.00</td>\n      <td>1</td>\n      <td>0</td>\n      <td>nan</td>\n      <td>nan</td>\n    </tr>\n    <tr>\n      <th>22557</th>\n      <td>Nordeste</td>\n      <td>SE</td>\n      <td>NaN</td>\n      <td>28</td>\n      <td>nan</td>\n      <td>nan</td>\n      <td>NaN</td>\n      <td>2020-03-15</td>\n      <td>12</td>\n      <td>2298696.00</td>\n      <td>1</td>\n      <td>0</td>\n      <td>nan</td>\n      <td>nan</td>\n    </tr>\n    <tr>\n      <th>27203</th>\n      <td>Nordeste</td>\n      <td>BA</td>\n      <td>NaN</td>\n      <td>29</td>\n      <td>nan</td>\n      <td>nan</td>\n      <td>NaN</td>\n      <td>2020-03-15</td>\n      <td>12</td>\n      <td>14873064.00</td>\n      <td>2</td>\n      <td>0</td>\n      <td>nan</td>\n      <td>nan</td>\n    </tr>\n    <tr>\n      <th>29741</th>\n      <td>Norte</td>\n      <td>AM</td>\n      <td>NaN</td>\n      <td>13</td>\n      <td>nan</td>\n      <td>nan</td>\n      <td>NaN</td>\n      <td>2020-03-15</td>\n      <td>12</td>\n      <td>4144597.00</td>\n      <td>1</td>\n      <td>0</td>\n      <td>nan</td>\n      <td>nan</td>\n    </tr>\n    <tr>\n      <th>40104</th>\n      <td>Sudeste</td>\n      <td>MG</td>\n      <td>NaN</td>\n      <td>31</td>\n      <td>nan</td>\n      <td>nan</td>\n      <td>NaN</td>\n      <td>2020-03-15</td>\n      <td>12</td>\n      <td>21168791.00</td>\n      <td>2</td>\n      <td>0</td>\n      <td>nan</td>\n      <td>nan</td>\n    </tr>\n    <tr>\n      <th>41878</th>\n      <td>Sudeste</td>\n      <td>ES</td>\n      <td>NaN</td>\n      <td>32</td>\n      <td>nan</td>\n      <td>nan</td>\n      <td>NaN</td>\n      <td>2020-03-15</td>\n      <td>12</td>\n      <td>4018650.00</td>\n      <td>1</td>\n      <td>0</td>\n      <td>nan</td>\n      <td>nan</td>\n    </tr>\n    <tr>\n      <th>44862</th>\n      <td>Sudeste</td>\n      <td>RJ</td>\n      <td>NaN</td>\n      <td>33</td>\n      <td>nan</td>\n      <td>nan</td>\n      <td>NaN</td>\n      <td>2020-03-15</td>\n      <td>12</td>\n      <td>17264943.00</td>\n      <td>24</td>\n      <td>0</td>\n      <td>nan</td>\n      <td>nan</td>\n    </tr>\n    <tr>\n      <th>55536</th>\n      <td>Sudeste</td>\n      <td>SP</td>\n      <td>NaN</td>\n      <td>35</td>\n      <td>nan</td>\n      <td>nan</td>\n      <td>NaN</td>\n      <td>2020-03-15</td>\n      <td>12</td>\n      <td>45919049.00</td>\n      <td>136</td>\n      <td>0</td>\n      <td>nan</td>\n      <td>nan</td>\n    </tr>\n    <tr>\n      <th>60099</th>\n      <td>Sul</td>\n      <td>PR</td>\n      <td>NaN</td>\n      <td>41</td>\n      <td>nan</td>\n      <td>nan</td>\n      <td>NaN</td>\n      <td>2020-03-15</td>\n      <td>12</td>\n      <td>11433957.00</td>\n      <td>6</td>\n      <td>0</td>\n      <td>nan</td>\n      <td>nan</td>\n    </tr>\n    <tr>\n      <th>64616</th>\n      <td>Sul</td>\n      <td>SC</td>\n      <td>NaN</td>\n      <td>42</td>\n      <td>nan</td>\n      <td>nan</td>\n      <td>NaN</td>\n      <td>2020-03-15</td>\n      <td>12</td>\n      <td>7164788.00</td>\n      <td>6</td>\n      <td>0</td>\n      <td>nan</td>\n      <td>nan</td>\n    </tr>\n    <tr>\n      <th>69591</th>\n      <td>Sul</td>\n      <td>RS</td>\n      <td>NaN</td>\n      <td>43</td>\n      <td>nan</td>\n      <td>nan</td>\n      <td>NaN</td>\n      <td>2020-03-15</td>\n      <td>12</td>\n      <td>11377239.00</td>\n      <td>6</td>\n      <td>0</td>\n      <td>nan</td>\n      <td>nan</td>\n    </tr>\n  </tbody>\n</table>\n</div>"
     },
     "metadata": {},
     "execution_count": 46
    }
   ],
   "source": [
    "# df\n",
    "# len(df[df.municipio =='Cruzeiro do Sul'])\n",
    "df[df.municipio =='Uberlândia']\n",
    "df[df.data =='2020-03-15']"
   ]
  },
  {
   "cell_type": "code",
   "execution_count": 34,
   "metadata": {},
   "outputs": [],
   "source": [
    "a = df[['estado', 'municipio', 'data']].groupby(['estado', 'municipio']).agg(np.count_nonzero)"
   ]
  },
  {
   "cell_type": "code",
   "execution_count": 35,
   "metadata": {},
   "outputs": [
    {
     "output_type": "execute_result",
     "data": {
      "text/plain": "                              data\nestado municipio                  \nMA     São Luís                 46\nSC     São Ludgero              46\nRN     Natal                    46\nSC     Tijucas                  46\n       Timbé do Sul             46\n...                            ...\nRO     Monte Negro               1\n       Nova Mamoré               1\n       Presidente Médici         1\n       São Miguel do Guaporé     1\nPI     Nazaré do Piauí           1\n\n[2993 rows x 1 columns]",
      "text/html": "<div>\n<style scoped>\n    .dataframe tbody tr th:only-of-type {\n        vertical-align: middle;\n    }\n\n    .dataframe tbody tr th {\n        vertical-align: top;\n    }\n\n    .dataframe thead th {\n        text-align: right;\n    }\n</style>\n<table border=\"1\" class=\"dataframe\">\n  <thead>\n    <tr style=\"text-align: right;\">\n      <th></th>\n      <th></th>\n      <th>data</th>\n    </tr>\n    <tr>\n      <th>estado</th>\n      <th>municipio</th>\n      <th></th>\n    </tr>\n  </thead>\n  <tbody>\n    <tr>\n      <th>MA</th>\n      <th>São Luís</th>\n      <td>46</td>\n    </tr>\n    <tr>\n      <th>SC</th>\n      <th>São Ludgero</th>\n      <td>46</td>\n    </tr>\n    <tr>\n      <th>RN</th>\n      <th>Natal</th>\n      <td>46</td>\n    </tr>\n    <tr>\n      <th rowspan=\"2\" valign=\"top\">SC</th>\n      <th>Tijucas</th>\n      <td>46</td>\n    </tr>\n    <tr>\n      <th>Timbé do Sul</th>\n      <td>46</td>\n    </tr>\n    <tr>\n      <th>...</th>\n      <th>...</th>\n      <td>...</td>\n    </tr>\n    <tr>\n      <th rowspan=\"4\" valign=\"top\">RO</th>\n      <th>Monte Negro</th>\n      <td>1</td>\n    </tr>\n    <tr>\n      <th>Nova Mamoré</th>\n      <td>1</td>\n    </tr>\n    <tr>\n      <th>Presidente Médici</th>\n      <td>1</td>\n    </tr>\n    <tr>\n      <th>São Miguel do Guaporé</th>\n      <td>1</td>\n    </tr>\n    <tr>\n      <th>PI</th>\n      <th>Nazaré do Piauí</th>\n      <td>1</td>\n    </tr>\n  </tbody>\n</table>\n<p>2993 rows × 1 columns</p>\n</div>"
     },
     "metadata": {},
     "execution_count": 35
    }
   ],
   "source": [
    "# a.loc['Uberlândia']\n",
    "a.sort_values('data', ascending=False)"
   ]
  },
  {
   "cell_type": "code",
   "execution_count": 59,
   "metadata": {},
   "outputs": [
    {
     "output_type": "execute_result",
     "data": {
      "text/plain": "MultiIndex([('AC',              'Acrelândia'),\n            ('AC',            'Assis Brasil'),\n            ('AC',               'Brasiléia'),\n            ('AC',                  'Bujari'),\n            ('AC',                'Capixaba'),\n            ('AC',         'Cruzeiro do Sul'),\n            ('AC',          'Epitaciolândia'),\n            ('AC',                   'Feijó'),\n            ('AC',    'Marechal Thaumaturgo'),\n            ('AC',             'Mâncio Lima'),\n            ...\n            ('TO',             'Praia Norte'),\n            ('TO',                  'Pugmil'),\n            ('TO',                 'Sampaio'),\n            ('TO',            'Silvanópolis'),\n            ('TO',  'São Bento do Tocantins'),\n            ('TO', 'São Miguel do Tocantins'),\n            ('TO', 'Sítio Novo do Tocantins'),\n            ('TO',          'Tocantinópolis'),\n            ('TO',            'Wanderlândia'),\n            ('TO',                 'Xambioá')],\n           names=['estado', 'municipio'], length=2993)"
     },
     "metadata": {},
     "execution_count": 59
    }
   ],
   "source": [
    "a.index"
   ]
  },
  {
   "cell_type": "code",
   "execution_count": 54,
   "metadata": {},
   "outputs": [],
   "source": [
    "b = df[df.municipio.notna()][['municipio', 'data']].groupby(['data']).agg(np.count_nonzero)"
   ]
  },
  {
   "cell_type": "code",
   "execution_count": 58,
   "metadata": {},
   "outputs": [
    {
     "output_type": "execute_result",
     "data": {
      "text/plain": "Index(['2020-03-28', '2020-03-29', '2020-03-30', '2020-03-31', '2020-04-01',\n       '2020-04-02', '2020-04-03', '2020-04-04', '2020-04-05', '2020-04-06',\n       '2020-04-07', '2020-04-08', '2020-04-09', '2020-04-10', '2020-04-11',\n       '2020-04-12', '2020-04-13', '2020-04-14', '2020-04-15', '2020-04-16',\n       '2020-04-17', '2020-04-18', '2020-04-19', '2020-04-20', '2020-04-21',\n       '2020-04-22', '2020-04-23', '2020-04-24', '2020-04-25', '2020-04-26',\n       '2020-04-27', '2020-04-28', '2020-04-29', '2020-04-30', '2020-05-01',\n       '2020-05-02', '2020-05-03', '2020-05-04', '2020-05-05', '2020-05-06',\n       '2020-05-07', '2020-05-08', '2020-05-09', '2020-05-10', '2020-05-11',\n       '2020-05-12'],\n      dtype='object', name='data')"
     },
     "metadata": {},
     "execution_count": 58
    }
   ],
   "source": [
    "b.index"
   ]
  },
  {
   "cell_type": "code",
   "execution_count": 52,
   "metadata": {},
   "outputs": [
    {
     "output_type": "execute_result",
     "data": {
      "text/plain": "77       2020-03-31\n78       2020-04-01\n79       2020-04-02\n80       2020-04-03\n81       2020-04-04\n            ...    \n69581    2020-05-08\n69582    2020-05-09\n69583    2020-05-10\n69584    2020-05-11\n69585    2020-05-12\nName: data, Length: 67513, dtype: object"
     },
     "metadata": {},
     "execution_count": 52
    }
   ],
   "source": [
    "df[df.municipio.notna()].data"
   ]
  },
  {
   "cell_type": "code",
   "execution_count": 109,
   "metadata": {},
   "outputs": [
    {
     "output_type": "execute_result",
     "data": {
      "text/plain": "data                           2020-03-28 2020-03-29 2020-03-30 2020-03-31  \\\nestado municipio                                                             \nAC     Acrelândia                     NaN        NaN        NaN        NaN   \n       Assis Brasil                   NaN        NaN        NaN        NaN   \n       Brasiléia                      NaN        NaN        NaN        NaN   \n       Bujari                         NaN        NaN        NaN        NaN   \n       Capixaba                       NaN        NaN        NaN        NaN   \n...                                   ...        ...        ...        ...   \nTO     São Miguel do Tocantins        NaN        NaN        NaN        NaN   \n       Sítio Novo do Tocantins        NaN        NaN        NaN        NaN   \n       Tocantinópolis                 NaN        NaN        NaN        NaN   \n       Wanderlândia                   NaN        NaN        NaN        NaN   \n       Xambioá                        NaN        NaN        NaN        NaN   \n\ndata                           2020-04-01 2020-04-02 2020-04-03 2020-04-04  \\\nestado municipio                                                             \nAC     Acrelândia                     NaN        NaN        NaN        NaN   \n       Assis Brasil                   NaN        NaN        NaN        NaN   \n       Brasiléia                      NaN        NaN        NaN        NaN   \n       Bujari                         NaN        NaN        NaN        NaN   \n       Capixaba                       NaN        NaN        NaN        NaN   \n...                                   ...        ...        ...        ...   \nTO     São Miguel do Tocantins        NaN        NaN        NaN        NaN   \n       Sítio Novo do Tocantins        NaN        NaN        NaN        NaN   \n       Tocantinópolis                 NaN        NaN        NaN        NaN   \n       Wanderlândia                   NaN        NaN        NaN        NaN   \n       Xambioá                        NaN        NaN        NaN        NaN   \n\ndata                           2020-04-05 2020-04-06  ... 2020-05-03  \\\nestado municipio                                      ...              \nAC     Acrelândia                     NaN        NaN  ...        NaN   \n       Assis Brasil                   NaN        NaN  ...        NaN   \n       Brasiléia                      NaN        NaN  ...        NaN   \n       Bujari                         NaN        NaN  ...        NaN   \n       Capixaba                       NaN        NaN  ...        NaN   \n...                                   ...        ...  ...        ...   \nTO     São Miguel do Tocantins        NaN        NaN  ...        NaN   \n       Sítio Novo do Tocantins        NaN        NaN  ...        NaN   \n       Tocantinópolis                 NaN        NaN  ...        NaN   \n       Wanderlândia                   NaN        NaN  ...        NaN   \n       Xambioá                        NaN        NaN  ...        NaN   \n\ndata                           2020-05-04 2020-05-05 2020-05-06 2020-05-07  \\\nestado municipio                                                             \nAC     Acrelândia                     NaN        NaN        NaN        NaN   \n       Assis Brasil                   NaN        NaN        NaN        NaN   \n       Brasiléia                      NaN        NaN        NaN        NaN   \n       Bujari                         NaN        NaN        NaN        NaN   \n       Capixaba                       NaN        NaN        NaN        NaN   \n...                                   ...        ...        ...        ...   \nTO     São Miguel do Tocantins        NaN        NaN        NaN        NaN   \n       Sítio Novo do Tocantins        NaN        NaN        NaN        NaN   \n       Tocantinópolis                 NaN        NaN        NaN        NaN   \n       Wanderlândia                   NaN        NaN        NaN        NaN   \n       Xambioá                        NaN        NaN        NaN        NaN   \n\ndata                           2020-05-08 2020-05-09 2020-05-10 2020-05-11  \\\nestado municipio                                                             \nAC     Acrelândia                     NaN        NaN        NaN        NaN   \n       Assis Brasil                   NaN        NaN        NaN        NaN   \n       Brasiléia                      NaN        NaN        NaN        NaN   \n       Bujari                         NaN        NaN        NaN        NaN   \n       Capixaba                       NaN        NaN        NaN        NaN   \n...                                   ...        ...        ...        ...   \nTO     São Miguel do Tocantins        NaN        NaN        NaN        NaN   \n       Sítio Novo do Tocantins        NaN        NaN        NaN        NaN   \n       Tocantinópolis                 NaN        NaN        NaN        NaN   \n       Wanderlândia                   NaN        NaN        NaN        NaN   \n       Xambioá                        NaN        NaN        NaN        NaN   \n\ndata                           2020-05-12  \nestado municipio                           \nAC     Acrelândia                     NaN  \n       Assis Brasil                   NaN  \n       Brasiléia                      NaN  \n       Bujari                         NaN  \n       Capixaba                       NaN  \n...                                   ...  \nTO     São Miguel do Tocantins        NaN  \n       Sítio Novo do Tocantins        NaN  \n       Tocantinópolis                 NaN  \n       Wanderlândia                   NaN  \n       Xambioá                        NaN  \n\n[2993 rows x 46 columns]",
      "text/html": "<div>\n<style scoped>\n    .dataframe tbody tr th:only-of-type {\n        vertical-align: middle;\n    }\n\n    .dataframe tbody tr th {\n        vertical-align: top;\n    }\n\n    .dataframe thead th {\n        text-align: right;\n    }\n</style>\n<table border=\"1\" class=\"dataframe\">\n  <thead>\n    <tr style=\"text-align: right;\">\n      <th></th>\n      <th>data</th>\n      <th>2020-03-28</th>\n      <th>2020-03-29</th>\n      <th>2020-03-30</th>\n      <th>2020-03-31</th>\n      <th>2020-04-01</th>\n      <th>2020-04-02</th>\n      <th>2020-04-03</th>\n      <th>2020-04-04</th>\n      <th>2020-04-05</th>\n      <th>2020-04-06</th>\n      <th>...</th>\n      <th>2020-05-03</th>\n      <th>2020-05-04</th>\n      <th>2020-05-05</th>\n      <th>2020-05-06</th>\n      <th>2020-05-07</th>\n      <th>2020-05-08</th>\n      <th>2020-05-09</th>\n      <th>2020-05-10</th>\n      <th>2020-05-11</th>\n      <th>2020-05-12</th>\n    </tr>\n    <tr>\n      <th>estado</th>\n      <th>municipio</th>\n      <th></th>\n      <th></th>\n      <th></th>\n      <th></th>\n      <th></th>\n      <th></th>\n      <th></th>\n      <th></th>\n      <th></th>\n      <th></th>\n      <th></th>\n      <th></th>\n      <th></th>\n      <th></th>\n      <th></th>\n      <th></th>\n      <th></th>\n      <th></th>\n      <th></th>\n      <th></th>\n      <th></th>\n    </tr>\n  </thead>\n  <tbody>\n    <tr>\n      <th rowspan=\"5\" valign=\"top\">AC</th>\n      <th>Acrelândia</th>\n      <td>NaN</td>\n      <td>NaN</td>\n      <td>NaN</td>\n      <td>NaN</td>\n      <td>NaN</td>\n      <td>NaN</td>\n      <td>NaN</td>\n      <td>NaN</td>\n      <td>NaN</td>\n      <td>NaN</td>\n      <td>...</td>\n      <td>NaN</td>\n      <td>NaN</td>\n      <td>NaN</td>\n      <td>NaN</td>\n      <td>NaN</td>\n      <td>NaN</td>\n      <td>NaN</td>\n      <td>NaN</td>\n      <td>NaN</td>\n      <td>NaN</td>\n    </tr>\n    <tr>\n      <th>Assis Brasil</th>\n      <td>NaN</td>\n      <td>NaN</td>\n      <td>NaN</td>\n      <td>NaN</td>\n      <td>NaN</td>\n      <td>NaN</td>\n      <td>NaN</td>\n      <td>NaN</td>\n      <td>NaN</td>\n      <td>NaN</td>\n      <td>...</td>\n      <td>NaN</td>\n      <td>NaN</td>\n      <td>NaN</td>\n      <td>NaN</td>\n      <td>NaN</td>\n      <td>NaN</td>\n      <td>NaN</td>\n      <td>NaN</td>\n      <td>NaN</td>\n      <td>NaN</td>\n    </tr>\n    <tr>\n      <th>Brasiléia</th>\n      <td>NaN</td>\n      <td>NaN</td>\n      <td>NaN</td>\n      <td>NaN</td>\n      <td>NaN</td>\n      <td>NaN</td>\n      <td>NaN</td>\n      <td>NaN</td>\n      <td>NaN</td>\n      <td>NaN</td>\n      <td>...</td>\n      <td>NaN</td>\n      <td>NaN</td>\n      <td>NaN</td>\n      <td>NaN</td>\n      <td>NaN</td>\n      <td>NaN</td>\n      <td>NaN</td>\n      <td>NaN</td>\n      <td>NaN</td>\n      <td>NaN</td>\n    </tr>\n    <tr>\n      <th>Bujari</th>\n      <td>NaN</td>\n      <td>NaN</td>\n      <td>NaN</td>\n      <td>NaN</td>\n      <td>NaN</td>\n      <td>NaN</td>\n      <td>NaN</td>\n      <td>NaN</td>\n      <td>NaN</td>\n      <td>NaN</td>\n      <td>...</td>\n      <td>NaN</td>\n      <td>NaN</td>\n      <td>NaN</td>\n      <td>NaN</td>\n      <td>NaN</td>\n      <td>NaN</td>\n      <td>NaN</td>\n      <td>NaN</td>\n      <td>NaN</td>\n      <td>NaN</td>\n    </tr>\n    <tr>\n      <th>Capixaba</th>\n      <td>NaN</td>\n      <td>NaN</td>\n      <td>NaN</td>\n      <td>NaN</td>\n      <td>NaN</td>\n      <td>NaN</td>\n      <td>NaN</td>\n      <td>NaN</td>\n      <td>NaN</td>\n      <td>NaN</td>\n      <td>...</td>\n      <td>NaN</td>\n      <td>NaN</td>\n      <td>NaN</td>\n      <td>NaN</td>\n      <td>NaN</td>\n      <td>NaN</td>\n      <td>NaN</td>\n      <td>NaN</td>\n      <td>NaN</td>\n      <td>NaN</td>\n    </tr>\n    <tr>\n      <th>...</th>\n      <th>...</th>\n      <td>...</td>\n      <td>...</td>\n      <td>...</td>\n      <td>...</td>\n      <td>...</td>\n      <td>...</td>\n      <td>...</td>\n      <td>...</td>\n      <td>...</td>\n      <td>...</td>\n      <td>...</td>\n      <td>...</td>\n      <td>...</td>\n      <td>...</td>\n      <td>...</td>\n      <td>...</td>\n      <td>...</td>\n      <td>...</td>\n      <td>...</td>\n      <td>...</td>\n      <td>...</td>\n    </tr>\n    <tr>\n      <th rowspan=\"5\" valign=\"top\">TO</th>\n      <th>São Miguel do Tocantins</th>\n      <td>NaN</td>\n      <td>NaN</td>\n      <td>NaN</td>\n      <td>NaN</td>\n      <td>NaN</td>\n      <td>NaN</td>\n      <td>NaN</td>\n      <td>NaN</td>\n      <td>NaN</td>\n      <td>NaN</td>\n      <td>...</td>\n      <td>NaN</td>\n      <td>NaN</td>\n      <td>NaN</td>\n      <td>NaN</td>\n      <td>NaN</td>\n      <td>NaN</td>\n      <td>NaN</td>\n      <td>NaN</td>\n      <td>NaN</td>\n      <td>NaN</td>\n    </tr>\n    <tr>\n      <th>Sítio Novo do Tocantins</th>\n      <td>NaN</td>\n      <td>NaN</td>\n      <td>NaN</td>\n      <td>NaN</td>\n      <td>NaN</td>\n      <td>NaN</td>\n      <td>NaN</td>\n      <td>NaN</td>\n      <td>NaN</td>\n      <td>NaN</td>\n      <td>...</td>\n      <td>NaN</td>\n      <td>NaN</td>\n      <td>NaN</td>\n      <td>NaN</td>\n      <td>NaN</td>\n      <td>NaN</td>\n      <td>NaN</td>\n      <td>NaN</td>\n      <td>NaN</td>\n      <td>NaN</td>\n    </tr>\n    <tr>\n      <th>Tocantinópolis</th>\n      <td>NaN</td>\n      <td>NaN</td>\n      <td>NaN</td>\n      <td>NaN</td>\n      <td>NaN</td>\n      <td>NaN</td>\n      <td>NaN</td>\n      <td>NaN</td>\n      <td>NaN</td>\n      <td>NaN</td>\n      <td>...</td>\n      <td>NaN</td>\n      <td>NaN</td>\n      <td>NaN</td>\n      <td>NaN</td>\n      <td>NaN</td>\n      <td>NaN</td>\n      <td>NaN</td>\n      <td>NaN</td>\n      <td>NaN</td>\n      <td>NaN</td>\n    </tr>\n    <tr>\n      <th>Wanderlândia</th>\n      <td>NaN</td>\n      <td>NaN</td>\n      <td>NaN</td>\n      <td>NaN</td>\n      <td>NaN</td>\n      <td>NaN</td>\n      <td>NaN</td>\n      <td>NaN</td>\n      <td>NaN</td>\n      <td>NaN</td>\n      <td>...</td>\n      <td>NaN</td>\n      <td>NaN</td>\n      <td>NaN</td>\n      <td>NaN</td>\n      <td>NaN</td>\n      <td>NaN</td>\n      <td>NaN</td>\n      <td>NaN</td>\n      <td>NaN</td>\n      <td>NaN</td>\n    </tr>\n    <tr>\n      <th>Xambioá</th>\n      <td>NaN</td>\n      <td>NaN</td>\n      <td>NaN</td>\n      <td>NaN</td>\n      <td>NaN</td>\n      <td>NaN</td>\n      <td>NaN</td>\n      <td>NaN</td>\n      <td>NaN</td>\n      <td>NaN</td>\n      <td>...</td>\n      <td>NaN</td>\n      <td>NaN</td>\n      <td>NaN</td>\n      <td>NaN</td>\n      <td>NaN</td>\n      <td>NaN</td>\n      <td>NaN</td>\n      <td>NaN</td>\n      <td>NaN</td>\n      <td>NaN</td>\n    </tr>\n  </tbody>\n</table>\n<p>2993 rows × 46 columns</p>\n</div>"
     },
     "metadata": {},
     "execution_count": 109
    }
   ],
   "source": [
    "df2 = pd.DataFrame(columns=b.index, index = a.index)\n",
    "df2"
   ]
  },
  {
   "cell_type": "code",
   "execution_count": 120,
   "metadata": {},
   "outputs": [],
   "source": [
    "c = df[(df.estado == 'MG') & (df.municipio == 'Uberlândia')][['data', 'obitosAcumulado']].set_index('data')"
   ]
  },
  {
   "cell_type": "code",
   "execution_count": 122,
   "metadata": {},
   "outputs": [
    {
     "output_type": "execute_result",
     "data": {
      "text/plain": "            obitosAcumulado\ndata                       \n2020-03-28                0\n2020-03-29                0\n2020-03-30                0\n2020-03-31                0\n2020-04-01                0",
      "text/html": "<div>\n<style scoped>\n    .dataframe tbody tr th:only-of-type {\n        vertical-align: middle;\n    }\n\n    .dataframe tbody tr th {\n        vertical-align: top;\n    }\n\n    .dataframe thead th {\n        text-align: right;\n    }\n</style>\n<table border=\"1\" class=\"dataframe\">\n  <thead>\n    <tr style=\"text-align: right;\">\n      <th></th>\n      <th>obitosAcumulado</th>\n    </tr>\n    <tr>\n      <th>data</th>\n      <th></th>\n    </tr>\n  </thead>\n  <tbody>\n    <tr>\n      <th>2020-03-28</th>\n      <td>0</td>\n    </tr>\n    <tr>\n      <th>2020-03-29</th>\n      <td>0</td>\n    </tr>\n    <tr>\n      <th>2020-03-30</th>\n      <td>0</td>\n    </tr>\n    <tr>\n      <th>2020-03-31</th>\n      <td>0</td>\n    </tr>\n    <tr>\n      <th>2020-04-01</th>\n      <td>0</td>\n    </tr>\n  </tbody>\n</table>\n</div>"
     },
     "metadata": {},
     "execution_count": 122
    }
   ],
   "source": [
    "c.head()"
   ]
  },
  {
   "cell_type": "code",
   "execution_count": 94,
   "metadata": {},
   "outputs": [],
   "source": [
    "c.at['obitosAcumulado', 'estado'] = 'MG'\n",
    "c.at['obitosAcumulado', 'municipio'] = 'Uberlândia'"
   ]
  },
  {
   "cell_type": "code",
   "execution_count": 117,
   "metadata": {},
   "outputs": [
    {
     "output_type": "execute_result",
     "data": {
      "text/plain": "nan"
     },
     "metadata": {},
     "execution_count": 117
    }
   ],
   "source": [
    "# c = c.set_index(['estado', 'municipio'])\n",
    "c.loc['2020-03-28']\n",
    "df2.loc[('MG', 'Uberlândia'), '2020-03-28']"
   ]
  },
  {
   "cell_type": "code",
   "execution_count": null,
   "metadata": {},
   "outputs": [],
   "source": [
    "df"
   ]
  },
  {
   "cell_type": "code",
   "execution_count": 140,
   "metadata": {
    "tags": [
     "outputPrepend",
     "outputPrepend"
    ]
   },
   "outputs": [],
   "source": [
    "for uf_mun in df2.index:\n",
    "    c = df[(df.estado == uf_mun[0]) & (df.municipio == uf_mun[1])][['data', 'obitosAcumulado']].set_index('data')\n",
    "    for data in c.index:\n",
    "        df2.at[(uf_mun[0], uf_mun[1]), data] = c.loc[data].obitosAcumulado\n",
    "    # print(uf_mun[0], uf_mun[1])"
   ]
  },
  {
   "cell_type": "code",
   "execution_count": 149,
   "metadata": {},
   "outputs": [
    {
     "output_type": "execute_result",
     "data": {
      "text/plain": "data\n2020-03-28      76\n2020-03-29      89\n2020-03-30     103\n2020-03-31     121\n2020-04-01     144\n2020-04-02     164\n2020-04-03     186\n2020-04-04     212\n2020-04-05     220\n2020-04-06     244\n2020-04-07     296\n2020-04-08     339\n2020-04-09     384\n2020-04-10     409\n2020-04-11     422\n2020-04-12     445\n2020-04-13     456\n2020-04-14     512\n2020-04-15     558\n2020-04-16     603\n2020-04-17     643\n2020-04-18     686\n2020-04-19     700\n2020-04-20     715\n2020-04-21     753\n2020-04-22     778\n2020-04-23     912\n2020-04-24    1010\n2020-04-25    1099\n2020-04-26    1114\n2020-04-27    1172\n2020-04-28    1321\n2020-04-29    1439\n2020-04-30    1522\n2020-05-01    1607\n2020-05-02    1661\n2020-05-03    1673\n2020-05-04    1683\n2020-05-05    1801\n2020-05-06    1910\n2020-05-07    1986\n2020-05-08    2110\n2020-05-09    2223\n2020-05-10    2266\n2020-05-11    2283\n2020-05-12    2407\nName: (SP, São Paulo), dtype: int64"
     },
     "metadata": {},
     "execution_count": 149
    }
   ],
   "source": [
    "# c.loc['2020-03-29'].obitosAcumulado\n",
    "# df2.iloc[0]\n",
    "# df2 = df2.fillna(0)\n",
    "df2.loc[('SP', 'São Paulo')]\n",
    "# df2"
   ]
  },
  {
   "cell_type": "code",
   "execution_count": 147,
   "metadata": {},
   "outputs": [
    {
     "output_type": "execute_result",
     "data": {
      "text/plain": "data                         2020-03-29  2020-03-30  2020-03-31  2020-04-01  \\\nestado municipio                                                              \nAC     Acrelândia                     0           0           0           0   \n       Assis Brasil                   0           0           0           0   \n       Brasiléia                      0           0           0           0   \n       Bujari                         0           0           0           0   \n       Capixaba                       0           0           0           0   \n       Cruzeiro do Sul                0           0           0           0   \n       Epitaciolândia                 0           0           0           0   \n       Feijó                          0           0           0           0   \n       Marechal Thaumaturgo           0           0           0           0   \n       Mâncio Lima                    0           0           0           0   \n\ndata                         2020-04-02  2020-04-03  2020-04-04  2020-04-05  \\\nestado municipio                                                              \nAC     Acrelândia                     0           0           0           0   \n       Assis Brasil                   0           0           0           0   \n       Brasiléia                      0           0           0           0   \n       Bujari                         0           0           0           0   \n       Capixaba                       0           0           0           0   \n       Cruzeiro do Sul                0           0           0           0   \n       Epitaciolândia                 0           0           0           0   \n       Feijó                          0           0           0           0   \n       Marechal Thaumaturgo           0           0           0           0   \n       Mâncio Lima                    0           0           0           0   \n\ndata                         2020-04-06  2020-04-07  ...  2020-05-03  \\\nestado municipio                                     ...               \nAC     Acrelândia                     0           1  ...           0   \n       Assis Brasil                   0           0  ...           0   \n       Brasiléia                      0           0  ...           0   \n       Bujari                         0           0  ...           0   \n       Capixaba                       0           0  ...           0   \n       Cruzeiro do Sul                0           0  ...           0   \n       Epitaciolândia                 0           0  ...           0   \n       Feijó                          0           0  ...           0   \n       Marechal Thaumaturgo           0           0  ...           0   \n       Mâncio Lima                    0           0  ...           0   \n\ndata                         2020-05-04  2020-05-05  2020-05-06  2020-05-07  \\\nestado municipio                                                              \nAC     Acrelândia                     0           1           0           0   \n       Assis Brasil                   0           0           0           0   \n       Brasiléia                      0           0           0           0   \n       Bujari                         0           0           0           0   \n       Capixaba                       0           0           0           0   \n       Cruzeiro do Sul                0           0           0           0   \n       Epitaciolândia                 0           0           0           0   \n       Feijó                          0           0           0           0   \n       Marechal Thaumaturgo           0           0           0           0   \n       Mâncio Lima                    0           0           0           0   \n\ndata                         2020-05-08  2020-05-09  2020-05-10  2020-05-11  \\\nestado municipio                                                              \nAC     Acrelândia                     0           0           0           0   \n       Assis Brasil                   0           0           0           0   \n       Brasiléia                      0           0           0           0   \n       Bujari                         0           0           0           0   \n       Capixaba                       0           0           0           0   \n       Cruzeiro do Sul                0           0           0           0   \n       Epitaciolândia                 0           0           0           0   \n       Feijó                          0           0           0           0   \n       Marechal Thaumaturgo           0           0           0           0   \n       Mâncio Lima                    0           0           0           0   \n\ndata                         2020-05-12  \nestado municipio                         \nAC     Acrelândia                     0  \n       Assis Brasil                   0  \n       Brasiléia                      0  \n       Bujari                         0  \n       Capixaba                       0  \n       Cruzeiro do Sul                0  \n       Epitaciolândia                 0  \n       Feijó                          0  \n       Marechal Thaumaturgo           0  \n       Mâncio Lima                    0  \n\n[10 rows x 45 columns]",
      "text/html": "<div>\n<style scoped>\n    .dataframe tbody tr th:only-of-type {\n        vertical-align: middle;\n    }\n\n    .dataframe tbody tr th {\n        vertical-align: top;\n    }\n\n    .dataframe thead th {\n        text-align: right;\n    }\n</style>\n<table border=\"1\" class=\"dataframe\">\n  <thead>\n    <tr style=\"text-align: right;\">\n      <th></th>\n      <th>data</th>\n      <th>2020-03-29</th>\n      <th>2020-03-30</th>\n      <th>2020-03-31</th>\n      <th>2020-04-01</th>\n      <th>2020-04-02</th>\n      <th>2020-04-03</th>\n      <th>2020-04-04</th>\n      <th>2020-04-05</th>\n      <th>2020-04-06</th>\n      <th>2020-04-07</th>\n      <th>...</th>\n      <th>2020-05-03</th>\n      <th>2020-05-04</th>\n      <th>2020-05-05</th>\n      <th>2020-05-06</th>\n      <th>2020-05-07</th>\n      <th>2020-05-08</th>\n      <th>2020-05-09</th>\n      <th>2020-05-10</th>\n      <th>2020-05-11</th>\n      <th>2020-05-12</th>\n    </tr>\n    <tr>\n      <th>estado</th>\n      <th>municipio</th>\n      <th></th>\n      <th></th>\n      <th></th>\n      <th></th>\n      <th></th>\n      <th></th>\n      <th></th>\n      <th></th>\n      <th></th>\n      <th></th>\n      <th></th>\n      <th></th>\n      <th></th>\n      <th></th>\n      <th></th>\n      <th></th>\n      <th></th>\n      <th></th>\n      <th></th>\n      <th></th>\n      <th></th>\n    </tr>\n  </thead>\n  <tbody>\n    <tr>\n      <th rowspan=\"10\" valign=\"top\">AC</th>\n      <th>Acrelândia</th>\n      <td>0</td>\n      <td>0</td>\n      <td>0</td>\n      <td>0</td>\n      <td>0</td>\n      <td>0</td>\n      <td>0</td>\n      <td>0</td>\n      <td>0</td>\n      <td>1</td>\n      <td>...</td>\n      <td>0</td>\n      <td>0</td>\n      <td>1</td>\n      <td>0</td>\n      <td>0</td>\n      <td>0</td>\n      <td>0</td>\n      <td>0</td>\n      <td>0</td>\n      <td>0</td>\n    </tr>\n    <tr>\n      <th>Assis Brasil</th>\n      <td>0</td>\n      <td>0</td>\n      <td>0</td>\n      <td>0</td>\n      <td>0</td>\n      <td>0</td>\n      <td>0</td>\n      <td>0</td>\n      <td>0</td>\n      <td>0</td>\n      <td>...</td>\n      <td>0</td>\n      <td>0</td>\n      <td>0</td>\n      <td>0</td>\n      <td>0</td>\n      <td>0</td>\n      <td>0</td>\n      <td>0</td>\n      <td>0</td>\n      <td>0</td>\n    </tr>\n    <tr>\n      <th>Brasiléia</th>\n      <td>0</td>\n      <td>0</td>\n      <td>0</td>\n      <td>0</td>\n      <td>0</td>\n      <td>0</td>\n      <td>0</td>\n      <td>0</td>\n      <td>0</td>\n      <td>0</td>\n      <td>...</td>\n      <td>0</td>\n      <td>0</td>\n      <td>0</td>\n      <td>0</td>\n      <td>0</td>\n      <td>0</td>\n      <td>0</td>\n      <td>0</td>\n      <td>0</td>\n      <td>0</td>\n    </tr>\n    <tr>\n      <th>Bujari</th>\n      <td>0</td>\n      <td>0</td>\n      <td>0</td>\n      <td>0</td>\n      <td>0</td>\n      <td>0</td>\n      <td>0</td>\n      <td>0</td>\n      <td>0</td>\n      <td>0</td>\n      <td>...</td>\n      <td>0</td>\n      <td>0</td>\n      <td>0</td>\n      <td>0</td>\n      <td>0</td>\n      <td>0</td>\n      <td>0</td>\n      <td>0</td>\n      <td>0</td>\n      <td>0</td>\n    </tr>\n    <tr>\n      <th>Capixaba</th>\n      <td>0</td>\n      <td>0</td>\n      <td>0</td>\n      <td>0</td>\n      <td>0</td>\n      <td>0</td>\n      <td>0</td>\n      <td>0</td>\n      <td>0</td>\n      <td>0</td>\n      <td>...</td>\n      <td>0</td>\n      <td>0</td>\n      <td>0</td>\n      <td>0</td>\n      <td>0</td>\n      <td>0</td>\n      <td>0</td>\n      <td>0</td>\n      <td>0</td>\n      <td>0</td>\n    </tr>\n    <tr>\n      <th>Cruzeiro do Sul</th>\n      <td>0</td>\n      <td>0</td>\n      <td>0</td>\n      <td>0</td>\n      <td>0</td>\n      <td>0</td>\n      <td>0</td>\n      <td>0</td>\n      <td>0</td>\n      <td>0</td>\n      <td>...</td>\n      <td>0</td>\n      <td>0</td>\n      <td>0</td>\n      <td>0</td>\n      <td>0</td>\n      <td>0</td>\n      <td>0</td>\n      <td>0</td>\n      <td>0</td>\n      <td>0</td>\n    </tr>\n    <tr>\n      <th>Epitaciolândia</th>\n      <td>0</td>\n      <td>0</td>\n      <td>0</td>\n      <td>0</td>\n      <td>0</td>\n      <td>0</td>\n      <td>0</td>\n      <td>0</td>\n      <td>0</td>\n      <td>0</td>\n      <td>...</td>\n      <td>0</td>\n      <td>0</td>\n      <td>0</td>\n      <td>0</td>\n      <td>0</td>\n      <td>0</td>\n      <td>0</td>\n      <td>0</td>\n      <td>0</td>\n      <td>0</td>\n    </tr>\n    <tr>\n      <th>Feijó</th>\n      <td>0</td>\n      <td>0</td>\n      <td>0</td>\n      <td>0</td>\n      <td>0</td>\n      <td>0</td>\n      <td>0</td>\n      <td>0</td>\n      <td>0</td>\n      <td>0</td>\n      <td>...</td>\n      <td>0</td>\n      <td>0</td>\n      <td>0</td>\n      <td>0</td>\n      <td>0</td>\n      <td>0</td>\n      <td>0</td>\n      <td>0</td>\n      <td>0</td>\n      <td>0</td>\n    </tr>\n    <tr>\n      <th>Marechal Thaumaturgo</th>\n      <td>0</td>\n      <td>0</td>\n      <td>0</td>\n      <td>0</td>\n      <td>0</td>\n      <td>0</td>\n      <td>0</td>\n      <td>0</td>\n      <td>0</td>\n      <td>0</td>\n      <td>...</td>\n      <td>0</td>\n      <td>0</td>\n      <td>0</td>\n      <td>0</td>\n      <td>0</td>\n      <td>0</td>\n      <td>0</td>\n      <td>0</td>\n      <td>0</td>\n      <td>0</td>\n    </tr>\n    <tr>\n      <th>Mâncio Lima</th>\n      <td>0</td>\n      <td>0</td>\n      <td>0</td>\n      <td>0</td>\n      <td>0</td>\n      <td>0</td>\n      <td>0</td>\n      <td>0</td>\n      <td>0</td>\n      <td>0</td>\n      <td>...</td>\n      <td>0</td>\n      <td>0</td>\n      <td>0</td>\n      <td>0</td>\n      <td>0</td>\n      <td>0</td>\n      <td>0</td>\n      <td>0</td>\n      <td>0</td>\n      <td>0</td>\n    </tr>\n  </tbody>\n</table>\n<p>10 rows × 45 columns</p>\n</div>"
     },
     "metadata": {},
     "execution_count": 147
    }
   ],
   "source": [
    "tam = len(df2.columns)\n",
    "df3 = df2.iloc[:,1:tam]\n",
    "df3.columns = list(range(0,tam-1))\n",
    "df4 = df2.iloc[:,0:tam-1]\n",
    "df4.columns = list(range(0,tam-1))\n",
    "df5 = df3 - df4\n",
    "df5.columns = df2.columns[1:]\n",
    "df5.head(10)"
   ]
  },
  {
   "cell_type": "code",
   "execution_count": 150,
   "metadata": {},
   "outputs": [],
   "source": [
    "# df5.loc[('SP', 'São Paulo')]\n",
    "df6 = df5.copy()\n",
    "for x in df5.index:\n",
    "    # print(x)\n",
    "    for c in range(0,tam):\n",
    "        # print(c)\n",
    "        if c >= 7:\n",
    "            # print(f'{df.columns[c]:<15} {df3.loc[x][c-7:c].mean():10,.0f}')\n",
    "            df6.at[x, df2.columns[c]] = df5.loc[x][c-7:c].mean()\n",
    "# df6 = df6.sort_values('5/11/20', ascending=False)\n",
    "# df6.iloc[:10,-14:]"
   ]
  },
  {
   "cell_type": "code",
   "execution_count": 153,
   "metadata": {
    "tags": [
     "outputPrepend",
     "outputPrepend",
     "outputPrepend",
     "outputPrepend",
     "outputPrepend",
     "outputPrepend",
     "outputPrepend",
     "outputPrepend",
     "outputPrepend",
     "outputPrepend",
     "outputPrepend",
     "outputPrepend",
     "outputPrepend"
    ]
   },
   "outputs": [],
   "source": [
    "q_pico = []\n",
    "d_pico = []\n",
    "for x in df6.index:\n",
    "    # print(f'{x[0]:<2} {x[1]:<20} {df6.loc[x].max():5} {df6.columns[df6.loc[x].argmax()]}')\n",
    "    q_pico.append(df6.loc[x].max())\n",
    "    d_pico.append(df6.columns[df6.loc[x].argmax()])"
   ]
  },
  {
   "cell_type": "code",
   "execution_count": 154,
   "metadata": {},
   "outputs": [
    {
     "output_type": "execute_result",
     "data": {
      "text/plain": "                       Ult_7_Dias  Pico Dia_do_Pico  Delta %\nestado municipio                                            \nSP     São Paulo               86    94  2020-04-29    -0.09\nRJ     Rio de Janeiro          80    80  2020-05-12     0.00\nCE     Fortaleza               48    48  2020-05-08     0.00\nAM     Manaus                  38    41  2020-05-09    -0.07\nPA     Belém                   37    37  2020-05-12     0.00\nPE     Recife                  18    20  2020-05-10    -0.10\nMA     São Luís                15    15  2020-05-11     0.00\nSP     Osasco                   9     9  2020-05-12     0.00\nPA     Ananindeua               8     8  2020-05-12     0.00\nBA     Salvador                 7     7  2020-05-09     0.00",
      "text/html": "<div>\n<style scoped>\n    .dataframe tbody tr th:only-of-type {\n        vertical-align: middle;\n    }\n\n    .dataframe tbody tr th {\n        vertical-align: top;\n    }\n\n    .dataframe thead th {\n        text-align: right;\n    }\n</style>\n<table border=\"1\" class=\"dataframe\">\n  <thead>\n    <tr style=\"text-align: right;\">\n      <th></th>\n      <th></th>\n      <th>Ult_7_Dias</th>\n      <th>Pico</th>\n      <th>Dia_do_Pico</th>\n      <th>Delta %</th>\n    </tr>\n    <tr>\n      <th>estado</th>\n      <th>municipio</th>\n      <th></th>\n      <th></th>\n      <th></th>\n      <th></th>\n    </tr>\n  </thead>\n  <tbody>\n    <tr>\n      <th>SP</th>\n      <th>São Paulo</th>\n      <td>86</td>\n      <td>94</td>\n      <td>2020-04-29</td>\n      <td>-0.09</td>\n    </tr>\n    <tr>\n      <th>RJ</th>\n      <th>Rio de Janeiro</th>\n      <td>80</td>\n      <td>80</td>\n      <td>2020-05-12</td>\n      <td>0.00</td>\n    </tr>\n    <tr>\n      <th>CE</th>\n      <th>Fortaleza</th>\n      <td>48</td>\n      <td>48</td>\n      <td>2020-05-08</td>\n      <td>0.00</td>\n    </tr>\n    <tr>\n      <th>AM</th>\n      <th>Manaus</th>\n      <td>38</td>\n      <td>41</td>\n      <td>2020-05-09</td>\n      <td>-0.07</td>\n    </tr>\n    <tr>\n      <th>PA</th>\n      <th>Belém</th>\n      <td>37</td>\n      <td>37</td>\n      <td>2020-05-12</td>\n      <td>0.00</td>\n    </tr>\n    <tr>\n      <th>PE</th>\n      <th>Recife</th>\n      <td>18</td>\n      <td>20</td>\n      <td>2020-05-10</td>\n      <td>-0.10</td>\n    </tr>\n    <tr>\n      <th>MA</th>\n      <th>São Luís</th>\n      <td>15</td>\n      <td>15</td>\n      <td>2020-05-11</td>\n      <td>0.00</td>\n    </tr>\n    <tr>\n      <th>SP</th>\n      <th>Osasco</th>\n      <td>9</td>\n      <td>9</td>\n      <td>2020-05-12</td>\n      <td>0.00</td>\n    </tr>\n    <tr>\n      <th>PA</th>\n      <th>Ananindeua</th>\n      <td>8</td>\n      <td>8</td>\n      <td>2020-05-12</td>\n      <td>0.00</td>\n    </tr>\n    <tr>\n      <th>BA</th>\n      <th>Salvador</th>\n      <td>7</td>\n      <td>7</td>\n      <td>2020-05-09</td>\n      <td>0.00</td>\n    </tr>\n  </tbody>\n</table>\n</div>"
     },
     "metadata": {},
     "execution_count": 154
    }
   ],
   "source": [
    "df7 = pd.DataFrame(df6.iloc[:,-1], index=df6.index)\n",
    "df7['Q_Pico'] = pd.Series(q_pico, index=df6.index)\n",
    "df7['D_Pico'] = pd.Series(d_pico, index=df6.index)\n",
    "df7.columns = ['Ult_7_Dias', 'Pico', 'Dia_do_Pico']\n",
    "df7['Delta %'] = df7['Ult_7_Dias'] / df7['Pico'] - 1\n",
    "df7 = df7.sort_values('Ult_7_Dias', ascending=False)\n",
    "df7.head(10)"
   ]
  },
  {
   "cell_type": "markdown",
   "metadata": {},
   "source": [
    "### Número de óbtidos por COVID-19\n",
    "    Ranking 10 maiores cidades brasileiras - considerando últ 7 dias\n",
    "    Valores apresentam média diária de óbitos em 7 dias\n",
    "    Atualizado com dados até 12/05/2020\n",
    "    Data no formato aaaa-mm-dd\n",
    "    Fonte: Secretarias Estaduais de Saúde. Brasil.\n",
    "    https://covid.saude.gov.br/"
   ]
  },
  {
   "cell_type": "code",
   "execution_count": null,
   "metadata": {},
   "outputs": [],
   "source": []
  }
 ],
 "metadata": {
  "kernelspec": {
   "display_name": "Python 3",
   "language": "python",
   "name": "python3"
  },
  "language_info": {
   "codemirror_mode": {
    "name": "ipython",
    "version": 3
   },
   "file_extension": ".py",
   "mimetype": "text/x-python",
   "name": "python",
   "nbconvert_exporter": "python",
   "pygments_lexer": "ipython3",
   "version": "3.8.1-final"
  }
 },
 "nbformat": 4,
 "nbformat_minor": 4
}
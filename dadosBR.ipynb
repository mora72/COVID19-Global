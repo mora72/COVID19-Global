{
 "cells": [
  {
   "cell_type": "code",
   "execution_count": 1,
   "metadata": {},
   "outputs": [],
   "source": [
    "import pandas as pd\n",
    "import numpy as np \n",
    "\n",
    "pd.set_option('display.max_colwidth', None)\n",
    "pd.set_option('display.max_rows', 50)\n",
    "pd.set_option('display.float_format', '{:.2f}'.format)\n",
    "\n",
    "df = pd.read_excel('DT1_PAINEL_COVIDBR_20200512.xlsx')"
   ]
  },
  {
   "cell_type": "code",
   "execution_count": 3,
   "metadata": {},
   "outputs": [
    {
     "output_type": "execute_result",
     "data": {
      "text/plain": "        regiao estado   municipio  coduf    codmun  codRegiaoSaude  \\\n39878  Sudeste     MG  Uberlândia     31 317020.00        31073.00   \n39879  Sudeste     MG  Uberlândia     31 317020.00        31073.00   \n39880  Sudeste     MG  Uberlândia     31 317020.00        31073.00   \n39881  Sudeste     MG  Uberlândia     31 317020.00        31073.00   \n39882  Sudeste     MG  Uberlândia     31 317020.00        31073.00   \n\n           nomeRegiaoSaude        data  semanaEpi  populacaoTCU2019  \\\n39878  Uberlândia Araguari  2020-03-28         13         691305.00   \n39879  Uberlândia Araguari  2020-03-29         14         691305.00   \n39880  Uberlândia Araguari  2020-03-30         14         691305.00   \n39881  Uberlândia Araguari  2020-03-31         14         691305.00   \n39882  Uberlândia Araguari  2020-04-01         14         691305.00   \n\n       casosAcumulado  obitosAcumulado  Recuperadosnovos  \\\n39878               7                0               nan   \n39879               7                0               nan   \n39880              10                0               nan   \n39881              10                0               nan   \n39882              14                0               nan   \n\n       emAcompanhamentoNovos  \n39878                    nan  \n39879                    nan  \n39880                    nan  \n39881                    nan  \n39882                    nan  ",
      "text/html": "<div>\n<style scoped>\n    .dataframe tbody tr th:only-of-type {\n        vertical-align: middle;\n    }\n\n    .dataframe tbody tr th {\n        vertical-align: top;\n    }\n\n    .dataframe thead th {\n        text-align: right;\n    }\n</style>\n<table border=\"1\" class=\"dataframe\">\n  <thead>\n    <tr style=\"text-align: right;\">\n      <th></th>\n      <th>regiao</th>\n      <th>estado</th>\n      <th>municipio</th>\n      <th>coduf</th>\n      <th>codmun</th>\n      <th>codRegiaoSaude</th>\n      <th>nomeRegiaoSaude</th>\n      <th>data</th>\n      <th>semanaEpi</th>\n      <th>populacaoTCU2019</th>\n      <th>casosAcumulado</th>\n      <th>obitosAcumulado</th>\n      <th>Recuperadosnovos</th>\n      <th>emAcompanhamentoNovos</th>\n    </tr>\n  </thead>\n  <tbody>\n    <tr>\n      <th>39878</th>\n      <td>Sudeste</td>\n      <td>MG</td>\n      <td>Uberlândia</td>\n      <td>31</td>\n      <td>317020.00</td>\n      <td>31073.00</td>\n      <td>Uberlândia Araguari</td>\n      <td>2020-03-28</td>\n      <td>13</td>\n      <td>691305.00</td>\n      <td>7</td>\n      <td>0</td>\n      <td>nan</td>\n      <td>nan</td>\n    </tr>\n    <tr>\n      <th>39879</th>\n      <td>Sudeste</td>\n      <td>MG</td>\n      <td>Uberlândia</td>\n      <td>31</td>\n      <td>317020.00</td>\n      <td>31073.00</td>\n      <td>Uberlândia Araguari</td>\n      <td>2020-03-29</td>\n      <td>14</td>\n      <td>691305.00</td>\n      <td>7</td>\n      <td>0</td>\n      <td>nan</td>\n      <td>nan</td>\n    </tr>\n    <tr>\n      <th>39880</th>\n      <td>Sudeste</td>\n      <td>MG</td>\n      <td>Uberlândia</td>\n      <td>31</td>\n      <td>317020.00</td>\n      <td>31073.00</td>\n      <td>Uberlândia Araguari</td>\n      <td>2020-03-30</td>\n      <td>14</td>\n      <td>691305.00</td>\n      <td>10</td>\n      <td>0</td>\n      <td>nan</td>\n      <td>nan</td>\n    </tr>\n    <tr>\n      <th>39881</th>\n      <td>Sudeste</td>\n      <td>MG</td>\n      <td>Uberlândia</td>\n      <td>31</td>\n      <td>317020.00</td>\n      <td>31073.00</td>\n      <td>Uberlândia Araguari</td>\n      <td>2020-03-31</td>\n      <td>14</td>\n      <td>691305.00</td>\n      <td>10</td>\n      <td>0</td>\n      <td>nan</td>\n      <td>nan</td>\n    </tr>\n    <tr>\n      <th>39882</th>\n      <td>Sudeste</td>\n      <td>MG</td>\n      <td>Uberlândia</td>\n      <td>31</td>\n      <td>317020.00</td>\n      <td>31073.00</td>\n      <td>Uberlândia Araguari</td>\n      <td>2020-04-01</td>\n      <td>14</td>\n      <td>691305.00</td>\n      <td>14</td>\n      <td>0</td>\n      <td>nan</td>\n      <td>nan</td>\n    </tr>\n  </tbody>\n</table>\n</div>"
     },
     "metadata": {},
     "execution_count": 3
    }
   ],
   "source": [
    "# df\n",
    "df[df.municipio =='Uberlândia'].head()"
   ]
  },
  {
   "cell_type": "code",
   "execution_count": null,
   "metadata": {},
   "outputs": [],
   "source": []
  }
 ],
 "metadata": {
  "kernelspec": {
   "display_name": "Python 3",
   "language": "python",
   "name": "python3"
  },
  "language_info": {
   "codemirror_mode": {
    "name": "ipython",
    "version": 3
   },
   "file_extension": ".py",
   "mimetype": "text/x-python",
   "name": "python",
   "nbconvert_exporter": "python",
   "pygments_lexer": "ipython3",
   "version": "3.7.6-final"
  }
 },
 "nbformat": 4,
 "nbformat_minor": 4
}
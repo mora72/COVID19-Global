{
 "cells": [
  {
   "cell_type": "code",
   "execution_count": 3,
   "metadata": {},
   "outputs": [],
   "source": [
    "import pandas as pd\n",
    "import numpy as np \n",
    "\n",
    "pd.set_option('display.max_colwidth', None)\n",
    "pd.set_option('display.max_rows', 50)\n",
    "pd.set_option('display.float_format', '{:.2f}'.format)\n",
    "\n",
    "df = pd.read_excel('HIST_PAINEL_COVIDBR_20200515.xlsx')"
   ]
  },
  {
   "cell_type": "code",
   "execution_count": 4,
   "metadata": {},
   "outputs": [],
   "source": [
    "a = df[['estado', 'municipio', 'data']].groupby(['estado', 'municipio']).agg(np.count_nonzero)\n",
    "# a.loc['Uberlândia']\n",
    "# a.sort_values('data', ascending=False)\n",
    "# a.index"
   ]
  },
  {
   "cell_type": "code",
   "execution_count": 5,
   "metadata": {},
   "outputs": [],
   "source": [
    "b = df[df.municipio.notna()][['municipio', 'data']].groupby(['data']).agg(np.count_nonzero)\n",
    "# b.index\n",
    "# df[df.municipio.notna()].data"
   ]
  },
  {
   "cell_type": "code",
   "execution_count": 6,
   "metadata": {},
   "outputs": [],
   "source": [
    "df2 = pd.DataFrame(columns=b.index, index = a.index)\n",
    "# df2"
   ]
  },
  {
   "cell_type": "code",
   "execution_count": 8,
   "metadata": {
    "tags": [
     "outputPrepend",
     "outputPrepend"
    ]
   },
   "outputs": [],
   "source": [
    "for uf_mun in df2.index:\n",
    "    c = df[(df.estado == uf_mun[0]) & (df.municipio == uf_mun[1])][['data', 'obitosAcumulado']].set_index('data')\n",
    "    for data in c.index:\n",
    "        df2.at[(uf_mun[0], uf_mun[1]), data] = c.loc[data].obitosAcumulado\n",
    "    # print(uf_mun[0], uf_mun[1])"
   ]
  },
  {
   "cell_type": "code",
   "execution_count": 9,
   "metadata": {},
   "outputs": [],
   "source": [
    "# c.loc['2020-03-29'].obitosAcumulado\n",
    "# df2.iloc[0]\n",
    "# df2 = df2.fillna(0)\n",
    "# df2.loc[('SP', 'São Paulo')]\n",
    "# df2"
   ]
  },
  {
   "cell_type": "code",
   "execution_count": 22,
   "metadata": {},
   "outputs": [],
   "source": [
    "tam = len(df2.columns)\n",
    "df3 = df2.iloc[:,1:tam]\n",
    "df3.columns = list(range(0,tam-1))\n",
    "df4 = df2.iloc[:,0:tam-1]\n",
    "df4.columns = list(range(0,tam-1))\n",
    "df5 = df3 - df4\n",
    "df5.columns = df2.columns[1:]\n",
    "# df5.head(10)"
   ]
  },
  {
   "cell_type": "code",
   "execution_count": 38,
   "metadata": {
    "tags": [
     "outputPrepend",
     "outputPrepend",
     "outputPrepend",
     "outputPrepend",
     "outputPrepend",
     "outputPrepend",
     "outputPrepend",
     "outputPrepend",
     "outputPrepend",
     "outputPrepend",
     "outputPrepend",
     "outputPrepend",
     "outputPrepend",
     "outputPrepend",
     "outputPrepend",
     "outputPrepend",
     "outputPrepend",
     "outputPrepend",
     "outputPrepend",
     "outputPrepend",
     "outputPrepend",
     "outputPrepend",
     "outputPrepend",
     "outputPrepend",
     "outputPrepend",
     "outputPrepend",
     "outputPrepend",
     "outputPrepend",
     "outputPrepend",
     "outputPrepend",
     "outputPrepend",
     "outputPrepend",
     "outputPrepend",
     "outputPrepend",
     "outputPrepend",
     "outputPrepend",
     "outputPrepend",
     "outputPrepend",
     "outputPrepend",
     "outputPrepend",
     "outputPrepend",
     "outputPrepend",
     "outputPrepend",
     "outputPrepend",
     "outputPrepend"
    ]
   },
   "outputs": [],
   "source": [
    "# df5.loc[('SP', 'São Paulo')]\n",
    "df5 = df5.fillna(0)\n",
    "df6 = df5.copy()\n",
    "for x in df5.index:\n",
    "    # print(x)\n",
    "    for c in range(0,tam):\n",
    "        # print(c)\n",
    "        if c >= 7:\n",
    "            # print(f'{df.columns[c]:<15} {df3.loc[x][c-7:c].mean():10,.0f}')\n",
    "            df6.at[x, df2.columns[c]] = df5.loc[x][c-7:c].mean()\n",
    "# df6 = df6.sort_values('5/11/20', ascending=False)\n",
    "# df6.iloc[:10,-14:]"
   ]
  },
  {
   "cell_type": "code",
   "execution_count": 39,
   "metadata": {
    "tags": [
     "outputPrepend",
     "outputPrepend",
     "outputPrepend",
     "outputPrepend",
     "outputPrepend",
     "outputPrepend",
     "outputPrepend",
     "outputPrepend",
     "outputPrepend",
     "outputPrepend",
     "outputPrepend",
     "outputPrepend",
     "outputPrepend"
    ]
   },
   "outputs": [],
   "source": [
    "q_pico = []\n",
    "d_pico = []\n",
    "for x in df6.index:\n",
    "    # print(f'{x[0]:<2} {x[1]:<20} {df6.loc[x].max():5} {df6.columns[df6.loc[x].argmax()]}')\n",
    "    q_pico.append(df6.loc[x].max())\n",
    "    d_pico.append(df6.columns[df6.loc[x].argmax()])"
   ]
  },
  {
   "cell_type": "code",
   "execution_count": 40,
   "metadata": {},
   "outputs": [
    {
     "output_type": "execute_result",
     "data": {
      "text/plain": "                                Ult_7_Dias  Pico Dia_do_Pico  Delta %\nestado municipio                                                     \nRJ     Rio de Janeiro                   89    89  2020-05-15     0.00\nSP     São Paulo                        80    94  2020-04-29    -0.15\nCE     Fortaleza                        49    53  2020-05-13    -0.08\nPA     Belém                            47    51  2020-05-14    -0.08\nAM     Manaus                           40    41  2020-05-09    -0.02\nPE     Recife                           22    22  2020-05-15     0.00\nMA     São Luís                         15    15  2020-05-11     0.00\nPA     Ananindeua                        9    10  2020-05-14    -0.10\nSP     Osasco                            8     9  2020-05-12    -0.11\nPE     Jaboatão dos Guararapes           7     7  2020-05-14     0.00",
      "text/html": "<div>\n<style scoped>\n    .dataframe tbody tr th:only-of-type {\n        vertical-align: middle;\n    }\n\n    .dataframe tbody tr th {\n        vertical-align: top;\n    }\n\n    .dataframe thead th {\n        text-align: right;\n    }\n</style>\n<table border=\"1\" class=\"dataframe\">\n  <thead>\n    <tr style=\"text-align: right;\">\n      <th></th>\n      <th></th>\n      <th>Ult_7_Dias</th>\n      <th>Pico</th>\n      <th>Dia_do_Pico</th>\n      <th>Delta %</th>\n    </tr>\n    <tr>\n      <th>estado</th>\n      <th>municipio</th>\n      <th></th>\n      <th></th>\n      <th></th>\n      <th></th>\n    </tr>\n  </thead>\n  <tbody>\n    <tr>\n      <th>RJ</th>\n      <th>Rio de Janeiro</th>\n      <td>89</td>\n      <td>89</td>\n      <td>2020-05-15</td>\n      <td>0.00</td>\n    </tr>\n    <tr>\n      <th>SP</th>\n      <th>São Paulo</th>\n      <td>80</td>\n      <td>94</td>\n      <td>2020-04-29</td>\n      <td>-0.15</td>\n    </tr>\n    <tr>\n      <th>CE</th>\n      <th>Fortaleza</th>\n      <td>49</td>\n      <td>53</td>\n      <td>2020-05-13</td>\n      <td>-0.08</td>\n    </tr>\n    <tr>\n      <th>PA</th>\n      <th>Belém</th>\n      <td>47</td>\n      <td>51</td>\n      <td>2020-05-14</td>\n      <td>-0.08</td>\n    </tr>\n    <tr>\n      <th>AM</th>\n      <th>Manaus</th>\n      <td>40</td>\n      <td>41</td>\n      <td>2020-05-09</td>\n      <td>-0.02</td>\n    </tr>\n    <tr>\n      <th>PE</th>\n      <th>Recife</th>\n      <td>22</td>\n      <td>22</td>\n      <td>2020-05-15</td>\n      <td>0.00</td>\n    </tr>\n    <tr>\n      <th>MA</th>\n      <th>São Luís</th>\n      <td>15</td>\n      <td>15</td>\n      <td>2020-05-11</td>\n      <td>0.00</td>\n    </tr>\n    <tr>\n      <th>PA</th>\n      <th>Ananindeua</th>\n      <td>9</td>\n      <td>10</td>\n      <td>2020-05-14</td>\n      <td>-0.10</td>\n    </tr>\n    <tr>\n      <th>SP</th>\n      <th>Osasco</th>\n      <td>8</td>\n      <td>9</td>\n      <td>2020-05-12</td>\n      <td>-0.11</td>\n    </tr>\n    <tr>\n      <th>PE</th>\n      <th>Jaboatão dos Guararapes</th>\n      <td>7</td>\n      <td>7</td>\n      <td>2020-05-14</td>\n      <td>0.00</td>\n    </tr>\n  </tbody>\n</table>\n</div>"
     },
     "metadata": {},
     "execution_count": 40
    }
   ],
   "source": [
    "df7 = pd.DataFrame(df6.iloc[:,-1], index=df6.index)\n",
    "df7['Q_Pico'] = pd.Series(q_pico, index=df6.index)\n",
    "df7['D_Pico'] = pd.Series(d_pico, index=df6.index)\n",
    "df7.columns = ['Ult_7_Dias', 'Pico', 'Dia_do_Pico']\n",
    "df7['Delta %'] = df7['Ult_7_Dias'] / df7['Pico'] - 1\n",
    "df7 = df7.sort_values('Ult_7_Dias', ascending=False)\n",
    "df7.head(10)"
   ]
  },
  {
   "cell_type": "markdown",
   "metadata": {},
   "source": [
    "### Número de óbtidos por COVID-19\n",
    "    Ranking 10 maiores cidades brasileiras - considerando últ 7 dias\n",
    "    Valores apresentam média diária de óbitos em 7 dias\n",
    "    Atualizado com dados até 15/05/2020\n",
    "    Data no formato aaaa-mm-dd\n",
    "    Fonte: Secretarias Estaduais de Saúde. Brasil.\n",
    "    https://covid.saude.gov.br/"
   ]
  },
  {
   "cell_type": "code",
   "execution_count": null,
   "metadata": {},
   "outputs": [],
   "source": []
  }
 ],
 "metadata": {
  "kernelspec": {
   "display_name": "Python 3",
   "language": "python",
   "name": "python3"
  },
  "language_info": {
   "codemirror_mode": {
    "name": "ipython",
    "version": 3
   },
   "file_extension": ".py",
   "mimetype": "text/x-python",
   "name": "python",
   "nbconvert_exporter": "python",
   "pygments_lexer": "ipython3",
   "version": "3.8.1-final"
  }
 },
 "nbformat": 4,
 "nbformat_minor": 4
}